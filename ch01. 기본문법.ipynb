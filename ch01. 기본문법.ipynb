{
 "cells": [
  {
   "cell_type": "markdown",
   "id": "68446bdc",
   "metadata": {},
   "source": [
    "# 기본문법"
   ]
  },
  {
   "cell_type": "markdown",
   "id": "210c497c",
   "metadata": {},
   "source": [
    "## 파이썬 표준 라이브러리 문서 \n",
    "- **공식문서** http://docs.python.org/3/library/index.html 아스트릭크는 글자랑 붙여서야한다\n"
   ]
  },
  {
   "cell_type": "markdown",
   "id": "f9ad1f6b",
   "metadata": {},
   "source": [
    "## 실행 - 파이썬 실행하는 방법\n",
    "1. 도구표시줄에서 RUN 아이콘을 이용해서 실행 : Shift + Enter\n",
    "2. Shift + Enter : 해당 셀을 실행한 후 새로운 셀을 생성\n",
    "3. Ctrl + Enter : 해당 셀을 실행한다. "
   ]
  },
  {
   "cell_type": "markdown",
   "id": "f719cf98",
   "metadata": {},
   "source": [
    "## 예약어(keyword) \n",
    "- 이미 그 용도가 정해져 있는 명령어들\n",
    "- 식별자 (명명법 or 사용자 정의 규칙 - 변수명, 함수명, 파일명...)로 사용 불가 "
   ]
  },
  {
   "cell_type": "code",
   "execution_count": 1,
   "id": "bd9db320",
   "metadata": {},
   "outputs": [
    {
     "name": "stdout",
     "output_type": "stream",
     "text": [
      "['False', 'None', 'True', '__peg_parser__', 'and', 'as', 'assert', 'async', 'await', 'break', 'class', 'continue', 'def', 'del', 'elif', 'else', 'except', 'finally', 'for', 'from', 'global', 'if', 'import', 'in', 'is', 'lambda', 'nonlocal', 'not', 'or', 'pass', 'raise', 'return', 'try', 'while', 'with', 'yield']\n"
     ]
    }
   ],
   "source": [
    "# 파이썬 예약어를 확인\n",
    "import keyword # keyword 라이브러리를 포함 \n",
    "\n",
    "# 파이썬의 예약어 목룍 출력\n",
    "print(keyword.kwlist)"
   ]
  },
  {
   "cell_type": "code",
   "execution_count": 2,
   "id": "971e12a2",
   "metadata": {},
   "outputs": [
    {
     "name": "stdout",
     "output_type": "stream",
     "text": [
      "36\n"
     ]
    }
   ],
   "source": [
    "# len = length, 자료의 개수, 문자의 길이\n",
    "print(len(keyword.kwlist))"
   ]
  },
  {
   "cell_type": "code",
   "execution_count": 3,
   "id": "eed932f5",
   "metadata": {},
   "outputs": [
    {
     "data": {
      "text/plain": [
       "'3.9.12 (main, Apr  4 2022, 05:22:27) [MSC v.1916 64 bit (AMD64)]'"
      ]
     },
     "execution_count": 3,
     "metadata": {},
     "output_type": "execute_result"
    }
   ],
   "source": [
    "# 파이썬 버전 확인\n",
    "import sys\n",
    "\n",
    "sys.version # 하나만 출력할때는 print 안 써도 된다."
   ]
  },
  {
   "cell_type": "markdown",
   "id": "784c402a",
   "metadata": {},
   "source": [
    "## 사칙연산 "
   ]
  },
  {
   "cell_type": "code",
   "execution_count": null,
   "id": "8e053e45",
   "metadata": {},
   "outputs": [],
   "source": [
    "# 파이썬을 계산기처럼 사용이 가능하다. \n",
    "# 사칙연산(산술연산) : +, -, *, /, //, %/%"
   ]
  },
  {
   "cell_type": "code",
   "execution_count": 4,
   "id": "e49a4c27",
   "metadata": {},
   "outputs": [
    {
     "data": {
      "text/plain": [
       "75"
      ]
     },
     "execution_count": 4,
     "metadata": {},
     "output_type": "execute_result"
    }
   ],
   "source": [
    "25 + 50"
   ]
  },
  {
   "cell_type": "code",
   "execution_count": 5,
   "id": "c0fea3ba",
   "metadata": {},
   "outputs": [
    {
     "data": {
      "text/plain": [
       "18"
      ]
     },
     "execution_count": 5,
     "metadata": {},
     "output_type": "execute_result"
    }
   ],
   "source": [
    "30 - 12 # 가독성 중요 "
   ]
  },
  {
   "cell_type": "code",
   "execution_count": 6,
   "id": "c884fdf9",
   "metadata": {},
   "outputs": [
    {
     "data": {
      "text/plain": [
       "116"
      ]
     },
     "execution_count": 6,
     "metadata": {},
     "output_type": "execute_result"
    }
   ],
   "source": [
    "58 * 2"
   ]
  },
  {
   "cell_type": "code",
   "execution_count": 12,
   "id": "7654b8ee",
   "metadata": {},
   "outputs": [
    {
     "data": {
      "text/plain": [
       "1.3333333333333333"
      ]
     },
     "execution_count": 12,
     "metadata": {},
     "output_type": "execute_result"
    }
   ],
   "source": [
    "4/3 # 나누기 결과가 실수형으로 나옴 "
   ]
  },
  {
   "cell_type": "code",
   "execution_count": 11,
   "id": "12868e89",
   "metadata": {},
   "outputs": [
    {
     "data": {
      "text/plain": [
       "1"
      ]
     },
     "execution_count": 11,
     "metadata": {},
     "output_type": "execute_result"
    }
   ],
   "source": [
    "4 // 3 # 몫 (정수형)"
   ]
  },
  {
   "cell_type": "code",
   "execution_count": 14,
   "id": "8f5decf4",
   "metadata": {
    "scrolled": false
   },
   "outputs": [
    {
     "data": {
      "text/plain": [
       "81"
      ]
     },
     "execution_count": 14,
     "metadata": {},
     "output_type": "execute_result"
    }
   ],
   "source": [
    "3 * 3 * 3 * 3"
   ]
  },
  {
   "cell_type": "code",
   "execution_count": 15,
   "id": "80b61417",
   "metadata": {},
   "outputs": [
    {
     "data": {
      "text/plain": [
       "27"
      ]
     },
     "execution_count": 15,
     "metadata": {},
     "output_type": "execute_result"
    }
   ],
   "source": [
    "3 ** 3"
   ]
  },
  {
   "cell_type": "code",
   "execution_count": 16,
   "id": "23aa4302",
   "metadata": {},
   "outputs": [
    {
     "data": {
      "text/plain": [
       "81"
      ]
     },
     "execution_count": 16,
     "metadata": {},
     "output_type": "execute_result"
    }
   ],
   "source": [
    "3 ** 4"
   ]
  },
  {
   "cell_type": "code",
   "execution_count": 17,
   "id": "eb552de4",
   "metadata": {},
   "outputs": [
    {
     "data": {
      "text/plain": [
       "1"
      ]
     },
     "execution_count": 17,
     "metadata": {},
     "output_type": "execute_result"
    }
   ],
   "source": [
    "# 나머지 연산\n",
    "7 % 2 "
   ]
  },
  {
   "cell_type": "code",
   "execution_count": 18,
   "id": "e2813473",
   "metadata": {},
   "outputs": [
    {
     "data": {
      "text/plain": [
       "3.5"
      ]
     },
     "execution_count": 18,
     "metadata": {},
     "output_type": "execute_result"
    }
   ],
   "source": [
    "7 / 2"
   ]
  },
  {
   "cell_type": "code",
   "execution_count": 21,
   "id": "7101582c",
   "metadata": {},
   "outputs": [
    {
     "name": "stdout",
     "output_type": "stream",
     "text": [
      "1\n",
      "2\n",
      "3\n"
     ]
    }
   ],
   "source": [
    "print(1)\n",
    "print(2) \n",
    "print(3)"
   ]
  },
  {
   "cell_type": "code",
   "execution_count": 22,
   "id": "b3b95c3b",
   "metadata": {},
   "outputs": [
    {
     "name": "stdout",
     "output_type": "stream",
     "text": [
      "1\n",
      "2\n",
      "3\n"
     ]
    }
   ],
   "source": [
    "print(1); print(2); print(3);"
   ]
  },
  {
   "cell_type": "code",
   "execution_count": 23,
   "id": "2d403f93",
   "metadata": {},
   "outputs": [
    {
     "name": "stdout",
     "output_type": "stream",
     "text": [
      "1\n",
      "2\n",
      "3\n",
      "4\n",
      "5\n",
      "6\n",
      "7\n",
      "8\n",
      "9\n",
      "10\n"
     ]
    }
   ],
   "source": [
    "for i in range(1,11):\n",
    "    print(i);"
   ]
  },
  {
   "cell_type": "code",
   "execution_count": 24,
   "id": "e8a8ef12",
   "metadata": {},
   "outputs": [
    {
     "data": {
      "text/plain": [
       "200"
      ]
     },
     "execution_count": 24,
     "metadata": {},
     "output_type": "execute_result"
    }
   ],
   "source": [
    "100\n",
    "200\n"
   ]
  },
  {
   "cell_type": "code",
   "execution_count": 25,
   "id": "eef38e65",
   "metadata": {},
   "outputs": [
    {
     "name": "stdout",
     "output_type": "stream",
     "text": [
      "100\n",
      "200\n"
     ]
    }
   ],
   "source": [
    "# 여러 개를 쓸 때는 프린트를 생략하면 안된다 \n",
    "print(100);\n",
    "print(200);"
   ]
  },
  {
   "cell_type": "markdown",
   "id": "8c3dec6b",
   "metadata": {},
   "source": [
    "## 주석(comment)\n",
    "- 프로그램 실행과는 상관없이 설명을 담기 위해 사용하는 구문 \n",
    "- '#' : 한 줄 주석\n",
    "- 여러 줄 주석"
   ]
  },
  {
   "cell_type": "code",
   "execution_count": 28,
   "id": "1a197919",
   "metadata": {},
   "outputs": [
    {
     "data": {
      "text/plain": [
       "'\\n이것도 주석 \\n안녕\\n'"
      ]
     },
     "execution_count": 28,
     "metadata": {},
     "output_type": "execute_result"
    }
   ],
   "source": [
    "# 이것은 한줄자리 주석입니다.\n",
    "\"\"\"\n",
    "여러줄 주석\n",
    "여기도 주석\n",
    "\"\"\"\n",
    "\n",
    "\n",
    "'''\n",
    "이것도 주석 \n",
    "안녕\n",
    "'''"
   ]
  },
  {
   "cell_type": "code",
   "execution_count": 34,
   "id": "a9e02531",
   "metadata": {},
   "outputs": [],
   "source": [
    "# 주석이고 싶어요\n",
    "# 나도 주석일거야 \n",
    "# 블럭주석이양 \n",
    "# 블럭주석 : 여러줄을 작성한 후 블럭을 설정하고 ctrl + /\n",
    "\n",
    "\n",
    "\n",
    "\n"
   ]
  },
  {
   "attachments": {},
   "cell_type": "markdown",
   "id": "7b4eb2a0",
   "metadata": {},
   "source": [
    "## 키워드와 식별자 그리고 주석 "
   ]
  },
  {
   "cell_type": "code",
   "execution_count": null,
   "id": "37ed64d2",
   "metadata": {},
   "outputs": [],
   "source": [
    "# 키워드 : 특별한 의미가 부여된 단어, 데이터, 예약어 \n",
    "# 키워드에 목록을 추출할 때 ; kwlist  명령어 keyword라는 라이브러리가 들고 있는 명령어임. 기본 명령어 아님 \n",
    "\n",
    "#외부 라이브러리(패키지, 모듈 )를 프로그램에 포함시킬 때\n",
    "import keyword\n",
    "print(keyword.kwlist)"
   ]
  },
  {
   "cell_type": "markdown",
   "id": "8ae82233",
   "metadata": {},
   "source": [
    "# 변수(variable) "
   ]
  },
  {
   "cell_type": "markdown",
   "id": "f48f1c57",
   "metadata": {},
   "source": [
    "- 변수 : 변할 수 있는 수 , 값(상수, data)을 저장하는 공간 즉, 기억공간\n",
    "- 메모리: 주기억장소(RAM), 변수를 저장하는 물리적인 공간\n",
    "- 동적 타이핑 ( Dynamic Typing ) : 자료형이 실행할 때 자동으로 할당된다,\n",
    "- 표현식 : V = C;"
   ]
  },
  {
   "cell_type": "code",
   "execution_count": 35,
   "id": "4e779b77",
   "metadata": {},
   "outputs": [],
   "source": [
    "a = 10;"
   ]
  },
  {
   "cell_type": "code",
   "execution_count": 36,
   "id": "2dbe5e73",
   "metadata": {},
   "outputs": [
    {
     "data": {
      "text/plain": [
       "10"
      ]
     },
     "execution_count": 36,
     "metadata": {},
     "output_type": "execute_result"
    }
   ],
   "source": [
    "a"
   ]
  },
  {
   "cell_type": "code",
   "execution_count": 37,
   "id": "24f064ac",
   "metadata": {},
   "outputs": [
    {
     "name": "stdout",
     "output_type": "stream",
     "text": [
      "10\n"
     ]
    }
   ],
   "source": [
    "print(a)"
   ]
  },
  {
   "cell_type": "markdown",
   "id": "5bb15dce",
   "metadata": {},
   "source": [
    "## 변수 작성 규칙 : 명명법 or 사용자 정의 규칙\n",
    "- 알파벳(A 에서 Z, a 에서 z), 숫자 (0 에서 9 ), 밑줄 ( _, 언더스코어) \n",
    "- 첫글자는 반드시 영문자의 대, 소문자이거나 밑줄(_)만 올 수 있다. \n",
    "- 예약어는 사용 불가 \n",
    "- 글자수에 제한은 없다. "
   ]
  },
  {
   "cell_type": "code",
   "execution_count": 39,
   "id": "288d3cf2",
   "metadata": {},
   "outputs": [
    {
     "data": {
      "text/plain": [
       "10"
      ]
     },
     "execution_count": 39,
     "metadata": {},
     "output_type": "execute_result"
    }
   ],
   "source": [
    "a = 10 \n",
    "#print(a)\n",
    "a\n"
   ]
  },
  {
   "cell_type": "code",
   "execution_count": 41,
   "id": "fee308e5",
   "metadata": {},
   "outputs": [
    {
     "data": {
      "text/plain": [
       "'파이썬'"
      ]
     },
     "execution_count": 41,
     "metadata": {},
     "output_type": "execute_result"
    }
   ],
   "source": [
    "a = \"파이썬\" #문자열 상수\n",
    "a"
   ]
  },
  {
   "cell_type": "code",
   "execution_count": 43,
   "id": "fe391319",
   "metadata": {},
   "outputs": [
    {
     "data": {
      "text/plain": [
       "'파이썬'"
      ]
     },
     "execution_count": 43,
     "metadata": {},
     "output_type": "execute_result"
    }
   ],
   "source": [
    "# 문자열 변수 : 문자열 상수\n",
    "a = \"파이썬\"\n",
    "a\n"
   ]
  },
  {
   "cell_type": "code",
   "execution_count": 44,
   "id": "cd291927",
   "metadata": {},
   "outputs": [
    {
     "data": {
      "text/plain": [
       "42.125"
      ]
     },
     "execution_count": 44,
     "metadata": {},
     "output_type": "execute_result"
    }
   ],
   "source": [
    "# 실수형 변수 : 실수형 상수\n",
    "a = 42.125\n",
    "a"
   ]
  },
  {
   "cell_type": "code",
   "execution_count": 51,
   "id": "7599eb04",
   "metadata": {},
   "outputs": [
    {
     "name": "stdout",
     "output_type": "stream",
     "text": [
      "<class 'int'>\n"
     ]
    }
   ],
   "source": [
    "# type() : 자료형을 확인하는 함수 \n",
    "a = 3\n",
    "b = 4\n",
    "a + b \n",
    "type(a);\n",
    "print(type(a));"
   ]
  },
  {
   "cell_type": "code",
   "execution_count": 54,
   "id": "8c7be9c7",
   "metadata": {},
   "outputs": [
    {
     "data": {
      "text/plain": [
       "int"
      ]
     },
     "execution_count": 54,
     "metadata": {},
     "output_type": "execute_result"
    }
   ],
   "source": [
    "type(a)"
   ]
  },
  {
   "cell_type": "code",
   "execution_count": null,
   "id": "59279dfc",
   "metadata": {},
   "outputs": [],
   "source": [
    "# '-' : 대입연산자, 할당연산자, 치환연산자 "
   ]
  },
  {
   "cell_type": "markdown",
   "id": "ee9be4cc",
   "metadata": {},
   "source": [
    "## 연산자(Operation) \n",
    "\n",
    "- 피연산자(항)  사이에 계산을 수행하기 위해 사용하는 기호들\n",
    "- 단항연산자 : 하나의 피연산자를 가지고 있는 연산\n",
    "- 이항연산자 : 하나 이상의 피연산자를 가지고 있는 연산\n",
    "    1. 최우선 연산자 : 우선순위가 가장 높은 연산자 ('.', '[.]','()')\n",
    "    2. 산술 연산자 : \n",
    "    3. 관계 연산자(비교 연산자) : ==, !=, >, >=, <, <= \n",
    "    4. 논리 연산자 : and(&&), or(||), not(!, 단항연산자) not True or not False \n",
    "    5. 비트(bit) 연산자 : and(&), or(|), not(~)\n",
    "    6. 대입할당연산자 : 대입연산자(-)와 산술연산자를 중첩해서 사용하는 연산자, 축약 \n",
    "    7. 대입연산자"
   ]
  },
  {
   "cell_type": "code",
   "execution_count": 58,
   "id": "fc77a9b2",
   "metadata": {},
   "outputs": [
    {
     "data": {
      "text/plain": [
       "2"
      ]
     },
     "execution_count": 58,
     "metadata": {},
     "output_type": "execute_result"
    }
   ],
   "source": [
    "# C언어나 Java 증강연산자 ( ++, -- )를 파이썬은 지원하지 않는다. \n",
    "a = 1 \n",
    "# a++ <===> a = a + 1 <===> a += 1\n",
    "a += 1\n",
    "a"
   ]
  },
  {
   "cell_type": "code",
   "execution_count": 60,
   "id": "2d516251",
   "metadata": {},
   "outputs": [
    {
     "data": {
      "text/plain": [
       "6"
      ]
     },
     "execution_count": 60,
     "metadata": {},
     "output_type": "execute_result"
    }
   ],
   "source": [
    "a = 3\n",
    "a *= 2\n",
    "a"
   ]
  },
  {
   "cell_type": "markdown",
   "id": "05592668",
   "metadata": {},
   "source": [
    "## 기본 자료형\n",
    "- 숫자형(수치형) : 정수형과 실수형 \n",
    "- 문자형 : '' or \"\"\n",
    "- 논리형 : True or False"
   ]
  },
  {
   "cell_type": "code",
   "execution_count": 62,
   "id": "435b697b",
   "metadata": {},
   "outputs": [
    {
     "name": "stdout",
     "output_type": "stream",
     "text": [
      "1 2\n",
      "1.5 2.3\n",
      "Python Hello world\n",
      "True False\n"
     ]
    }
   ],
   "source": [
    "# 정수형 ( integer type, int/long )\n",
    "a = 1\n",
    "b = 2\n",
    "print(a,b)\n",
    "\n",
    "# 실수형 ( floating-point type, float / double )\n",
    "a = 1.5\n",
    "b = 2.3\n",
    "print(a,b)\n",
    "\n",
    "# 문자형 (string, char / string )\n",
    "a = 'Python'\n",
    "b = 'Hello world'\n",
    "print(a,b)\n",
    "\n",
    "# 블린형 (boolean type)\n",
    "a = True\n",
    "b = False \n",
    "print(a,b)"
   ]
  },
  {
   "cell_type": "code",
   "execution_count": 63,
   "id": "df8ed5b2",
   "metadata": {},
   "outputs": [
    {
     "name": "stdout",
     "output_type": "stream",
     "text": [
      "3\n",
      "12\n"
     ]
    }
   ],
   "source": [
    "# '+' : 산술 연산의 의미, 연결연산의 의미\n",
    "print(1 + 2)\n",
    "print('1' + '2')"
   ]
  },
  {
   "attachments": {},
   "cell_type": "markdown",
   "id": "bcf79c9e",
   "metadata": {},
   "source": [
    "## 형 변환(casting)\n",
    "- 자료형을 다른 자료형으로 변경시켜주는 기능 \n",
    "- 논리형(1byte) : 형변환 불가능 \n",
    "- 정수형 < 실수형 < 문자형 \n",
    "- 자동형변환(묵시형변환, promotion) : 작은 자료형을 큰 자료형에 담을 때 \n",
    "- 강제형변환(명시형변환, casting) : 큰 자료형을 작은 자료형에 담을 때\n",
    "- int(): 문자열을 정수형으로 변환, 실수형을 정수형으로 변환\n",
    "- float() : 문자열을 실수형으로 변환, 정수형을 실수형으로 변환\n",
    "- str() : 정수 또는 실수형을 문자형으로 변환"
   ]
  },
  {
   "cell_type": "code",
   "execution_count": 65,
   "id": "a52b29ef",
   "metadata": {},
   "outputs": [
    {
     "name": "stdout",
     "output_type": "stream",
     "text": [
      "10\n",
      "10.0\n"
     ]
    }
   ],
   "source": [
    "# 정수형과 실수형 간 변환 : float(), int() 함수 사용\n",
    "a = 10 \n",
    "print(a)\n",
    "\n",
    "a = float(10)\n",
    "print(a)"
   ]
  },
  {
   "cell_type": "code",
   "execution_count": 66,
   "id": "d82d461a",
   "metadata": {},
   "outputs": [
    {
     "name": "stdout",
     "output_type": "stream",
     "text": [
      "3.3333333333333335\n"
     ]
    }
   ],
   "source": [
    "a = 10 \n",
    "b = 3\n",
    "print(a/b)"
   ]
  },
  {
   "cell_type": "code",
   "execution_count": 67,
   "id": "33979f11",
   "metadata": {},
   "outputs": [
    {
     "name": "stdout",
     "output_type": "stream",
     "text": [
      "17\n",
      "10 7\n"
     ]
    }
   ],
   "source": [
    "# 정수형 < 실수형\n",
    "a = int(10.7)\n",
    "b = int(7.3)\n",
    "print (a+b)\n",
    "print (a, b)"
   ]
  },
  {
   "cell_type": "code",
   "execution_count": 2,
   "id": "ca8d4e92",
   "metadata": {},
   "outputs": [
    {
     "name": "stdout",
     "output_type": "stream",
     "text": [
      "76.3\n",
      "76.3\n"
     ]
    }
   ],
   "source": [
    "# 숫자형과 문자형간의 변환은 주의가 필요 \n",
    "a = '76.3' # 문자형 \n",
    "b = float(a)\n",
    "print(a)\n",
    "print(b)\n",
    "# print(a+b) # 이렇게 하면 안 된다 \"주의가 필요 \""
   ]
  },
  {
   "cell_type": "code",
   "execution_count": 69,
   "id": "60f8ce28",
   "metadata": {},
   "outputs": [
    {
     "name": "stdout",
     "output_type": "stream",
     "text": [
      "152.6\n"
     ]
    }
   ],
   "source": [
    "print(float(a)+b)"
   ]
  },
  {
   "cell_type": "code",
   "execution_count": 10,
   "id": "c1b93642",
   "metadata": {},
   "outputs": [
    {
     "name": "stdout",
     "output_type": "stream",
     "text": [
      "<class 'int'>\n",
      "<class 'float'>\n",
      "<class 'str'>\n",
      "7\n",
      "10.3\n"
     ]
    }
   ],
   "source": [
    "# 자료형 확인 : type()\n",
    "a = int(7.3)\n",
    "b = float(10)\n",
    "c = str(10.3) # 파이선은 char가 없다. \n",
    "print(type(a))\n",
    "print(type(b))\n",
    "print(type(c))\n",
    "print(a)\n",
    "print(c)\n"
   ]
  },
  {
   "cell_type": "markdown",
   "id": "122b3dca",
   "metadata": {},
   "source": [
    "# 표준 입출력(console) \n",
    "- console : 키보드와 모니커 환경 \n",
    "  1. 표준 입력 함수 : input('문자열')\n",
    "  2. 표준 출력 함수 : print('문자열' or 수식 or 서식) \n",
    "  \n"
   ]
  },
  {
   "cell_type": "code",
   "execution_count": 75,
   "id": "d1b4a61e",
   "metadata": {},
   "outputs": [
    {
     "name": "stdout",
     "output_type": "stream",
     "text": [
      "숫자를 입력하세요:5\n",
      "연산결과 : 15\n"
     ]
    }
   ],
   "source": [
    "# 표준 입력 함수 : input()\n",
    "a = input('숫자를 입력하세요:')\n",
    "print('연산결과 :', int(a)+10)"
   ]
  },
  {
   "cell_type": "code",
   "execution_count": 76,
   "id": "493dedec",
   "metadata": {},
   "outputs": [
    {
     "name": "stdout",
     "output_type": "stream",
     "text": [
      "Hello python!!\n"
     ]
    }
   ],
   "source": [
    "# 표준 출력 함수 : print('출력내용')\n",
    "print('Hello python!!')\n"
   ]
  },
  {
   "cell_type": "code",
   "execution_count": 80,
   "id": "93b34f2c",
   "metadata": {},
   "outputs": [
    {
     "name": "stdout",
     "output_type": "stream",
     "text": [
      "best python study\n"
     ]
    }
   ],
   "source": [
    "# 여러개의 문자열을 나열할 때 (열거형 연산자 : , )\n",
    "print('best','python','study')\n"
   ]
  },
  {
   "cell_type": "code",
   "execution_count": 85,
   "id": "183dfa50",
   "metadata": {},
   "outputs": [
    {
     "name": "stdout",
     "output_type": "stream",
     "text": [
      "bestpythonstudy\n"
     ]
    }
   ],
   "source": [
    "# 연결 연산자 : 문자열과 문자열을 연결할 때 사용하는 연산자\n",
    "print('best' + 'python'+'study')"
   ]
  },
  {
   "cell_type": "code",
   "execution_count": 89,
   "id": "d18dc348",
   "metadata": {},
   "outputs": [
    {
     "name": "stdout",
     "output_type": "stream",
     "text": [
      "best#$#python#$#study\n"
     ]
    }
   ],
   "source": [
    "# 구분자 : 문자열과 문자열 사이에 특정 문자열을 추가 \n",
    "print('best','python','study',sep='#$#')"
   ]
  },
  {
   "cell_type": "code",
   "execution_count": 92,
   "id": "3222fe3b",
   "metadata": {},
   "outputs": [
    {
     "name": "stdout",
     "output_type": "stream",
     "text": [
      "10\n",
      "x =  10\n"
     ]
    }
   ],
   "source": [
    "# 변수를 이용한 출력\n",
    "x = 10\n",
    "print(x)\n",
    "print(\"x = \", x )"
   ]
  },
  {
   "cell_type": "code",
   "execution_count": 94,
   "id": "a36e1982",
   "metadata": {},
   "outputs": [
    {
     "name": "stdout",
     "output_type": "stream",
     "text": [
      "홍길동 33\n"
     ]
    }
   ],
   "source": [
    "name = \"홍길동\"\n",
    "age = 33\n",
    "print(name, age)"
   ]
  },
  {
   "cell_type": "code",
   "execution_count": 95,
   "id": "774e17c8",
   "metadata": {},
   "outputs": [
    {
     "name": "stdout",
     "output_type": "stream",
     "text": [
      "홍길동:33\n"
     ]
    }
   ],
   "source": [
    "print(name, age, sep=':')"
   ]
  },
  {
   "cell_type": "code",
   "execution_count": 97,
   "id": "78a71d3c",
   "metadata": {},
   "outputs": [
    {
     "name": "stdout",
     "output_type": "stream",
     "text": [
      "name =  홍길동 , age =  33\n"
     ]
    }
   ],
   "source": [
    "print('name = ', name, ', age = ' , age)"
   ]
  },
  {
   "cell_type": "code",
   "execution_count": 98,
   "id": "e7dd1c73",
   "metadata": {},
   "outputs": [
    {
     "name": "stdout",
     "output_type": "stream",
     "text": [
      "James is my friend. \n",
      "He is korean\n"
     ]
    }
   ],
   "source": [
    "# 개행문자('\\n'), 한글(원화표시), 영문(역슬레시)\n",
    "print('James is my friend. \\nHe is korean') "
   ]
  },
  {
   "cell_type": "code",
   "execution_count": 102,
   "id": "6f49b72d",
   "metadata": {},
   "outputs": [
    {
     "name": "stdout",
     "output_type": "stream",
     "text": [
      "Welcome to Python world\n"
     ]
    }
   ],
   "source": [
    "# 기본형 end=\"\\n\"\n",
    "\n",
    "print(\"Welcome to \", end=\"\" ) # 한줄로 출력하기 위해서 end = \"\" 썼당 ~~~~~~~~~~~\n",
    "print(\"Python world\")"
   ]
  },
  {
   "attachments": {},
   "cell_type": "markdown",
   "id": "1c09dc2e",
   "metadata": {},
   "source": [
    "#### 초를 입력받아 시,분,초로 출력되는 프로그램 "
   ]
  },
  {
   "cell_type": "code",
   "execution_count": 4,
   "id": "1f6b7a2b",
   "metadata": {},
   "outputs": [
    {
     "name": "stdout",
     "output_type": "stream",
     "text": [
      "1 시간\n",
      "25 분\n",
      "0 초\n"
     ]
    },
    {
     "data": {
      "text/plain": [
       "7199"
      ]
     },
     "execution_count": 4,
     "metadata": {},
     "output_type": "execute_result"
    }
   ],
   "source": [
    "# 초를 입력받아 시,분,초로 출력되는 프로그램 \n",
    "## 1 분은 60 초 , 1시간 = 60분 = 60 * 60 초 \n",
    "## 7000초 = \n",
    "\n",
    "number = int(input(\"초를 입력 하시오 = \"))\n",
    "hour = number // 3600       \n",
    "remain_min = number % 3600 // 60  \n",
    "remain_sec = number %3600 % 60  \n",
    "print(hour , \"시간\")\n",
    "print(remain_min ,\"분\")\n",
    "print(remain_sec, \"초\")\n",
    "\n",
    "# 초 = 시간 * 60 * 60 = 3600\n",
    "# 분 = 분 * 60 = 900\n",
    "# 3600 + 900 + 20 = 4520 초\n",
    "# 4520 초 => 4520 / 3600 \n",
    "\n",
    "\n",
    "# 1시간 59분 59초 = 7199 \n",
    "7199 \n",
    "# 2시간 5분 30초 = 125분 30초 = 125 * 60 + 30 = 7530 "
   ]
  },
  {
   "attachments": {},
   "cell_type": "markdown",
   "id": "36403da4",
   "metadata": {},
   "source": [
    "#### 원의 반지름을 입력받아 원의 둘레와 면적을 구하는 프로그램을 작성하시오. "
   ]
  },
  {
   "cell_type": "code",
   "execution_count": 3,
   "id": "b2919efc",
   "metadata": {},
   "outputs": [
    {
     "name": "stdout",
     "output_type": "stream",
     "text": [
      "원의 둘레는 87.96459430051421 cm입니다.\n"
     ]
    }
   ],
   "source": [
    "# 변수 선언, 변수 할당, 변수 참조\n",
    "# 원의 반지름을 입력받아 원의 둘레와 면적을 구하는 프로그램을 작성하시오. \n",
    "##원주율 \n",
    "## 원의 둘레 = 2 * 원주율 * 반지름\n",
    "## 원의 면적 = 반지름 * 반지름 * 원주율\n",
    "import math\n",
    "pi = math.pi\n",
    "\n",
    "r = float(input(\"반지름을 입력하시오 = \"))\n",
    "print(\"원의 둘레는\", 2*pi*r, \"cm입니다.\")\n"
   ]
  },
  {
   "cell_type": "markdown",
   "id": "63947e71",
   "metadata": {},
   "source": [
    "## 형식 지정 출력\n",
    "- 기본형식 print(\"%type\" % data) \n",
    "- 서식(format) : 데이터의 타입이나 자릿수를 지정할 때 사용하는 기호 \n",
    "- %s 문자열, %d 정수형, %f 실수형 "
   ]
  },
  {
   "cell_type": "code",
   "execution_count": 11,
   "id": "876d7e68",
   "metadata": {},
   "outputs": [
    {
     "name": "stdout",
     "output_type": "stream",
     "text": [
      "홍길동\n",
      "name =  홍길동\n",
      "당신의 이름은  홍길동 입니다.\n",
      "홍길동는 나의 친구 입니다.\n"
     ]
    }
   ],
   "source": [
    "name = \"홍길동\"\n",
    "print(name)\n",
    "print(\"name = \" , name)\n",
    "print(\"당신의 이름은 \", name, \"입니다.\")\n",
    "print(\"%s는 나의 친구 입니다.\" %name )"
   ]
  },
  {
   "cell_type": "code",
   "execution_count": 5,
   "id": "5d586c60",
   "metadata": {},
   "outputs": [
    {
     "name": "stdout",
     "output_type": "stream",
     "text": [
      "실수 1 : 3.074\n",
      "실수 2 : 7.3\n",
      "실수 3 : 2.67\n",
      "실수 4 :     2.6667\n"
     ]
    }
   ],
   "source": [
    "# 서식기호와 함께 %s(문자열), %d(정수형), %f(실수형)\n",
    "print(\"실수 1 : {0:.3f}\".format(8.3/2.7)) #소수이하 3자리까지 출력해라 \n",
    "xx = 2.5 + 4.8\n",
    "print(\"실수 2 : {0:.1f}\".format(xx)) #소수이하 1자리까지 출력해라 \n",
    "r = 8 / float(3)\n",
    "print(\"실수 3 : {0:.2f}\".format(r)) #소수이하 2자리까지 출력해라\n",
    "# 전체 자릿수도 지정 전체 자리는 10 자리 \n",
    "print(\"실수 4 : {0:10.4f}\".format(8.0/3))"
   ]
  }
 ],
 "metadata": {
  "kernelspec": {
   "display_name": "Python 3 (ipykernel)",
   "language": "python",
   "name": "python3"
  },
  "language_info": {
   "codemirror_mode": {
    "name": "ipython",
    "version": 3
   },
   "file_extension": ".py",
   "mimetype": "text/x-python",
   "name": "python",
   "nbconvert_exporter": "python",
   "pygments_lexer": "ipython3",
   "version": "3.9.13"
  },
  "toc": {
   "base_numbering": 1,
   "nav_menu": {},
   "number_sections": true,
   "sideBar": true,
   "skip_h1_title": false,
   "title_cell": "Table of Contents",
   "title_sidebar": "Contents",
   "toc_cell": false,
   "toc_position": {
    "height": "calc(100% - 180px)",
    "left": "10px",
    "top": "150px",
    "width": "165px"
   },
   "toc_section_display": true,
   "toc_window_display": true
  }
 },
 "nbformat": 4,
 "nbformat_minor": 5
}
