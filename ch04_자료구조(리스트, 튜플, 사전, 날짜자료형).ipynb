{
 "cells": [
  {
   "cell_type": "code",
   "execution_count": null,
   "id": "116d22e0",
   "metadata": {},
   "outputs": [],
   "source": [
    "#리스트 생성\n",
    "a = [1,2,3,4,5]\n",
    "print(a)\n",
    "#자료형확인\n",
    "print(type(a))\n",
    "#개별요소를 참조 - 인덱스\n",
    "print(a[0]) # 첫번째 요소 \n",
    "print(a[1]) # 두번째 요소 \n",
    "# 마지막 요소 \n",
    "print(a[4])\n",
    "print(a[-1])\n",
    "# 리스트 변경 가능\n",
    "a[0] = 10 \n",
    "print(\"a = \", a)\n",
    "# 개별요소를 줄단위로 출력 \n",
    "print(a[0])\n",
    "print(a[1])\n",
    "print(a[2])\n",
    "print(a[3])\n",
    "print(a[4])\n",
    "# for 개별 변수 in 집합변수 \n",
    "for i in a:\n",
    "    print(i)\n",
    "    \n",
    "print(\"------------------------\")\n",
    "print(\"-\" * 20 )\n",
    "\n",
    "#for i in a:\n",
    " #   print(a[i]) 파이썬은 이게 안돼 "
   ]
  },
  {
   "cell_type": "code",
   "execution_count": null,
   "id": "8a72d288",
   "metadata": {},
   "outputs": [],
   "source": [
    "# 중첩리스트 - 이차원 리스트, 이차원 배열\n",
    "a = [1,2,3,['a','b','c']]\n",
    "print(a)\n",
    "print(a[3])\n",
    "print(a[3][0]) # 리스트 [행][열]"
   ]
  },
  {
   "cell_type": "code",
   "execution_count": null,
   "id": "690c1b8b",
   "metadata": {},
   "outputs": [],
   "source": [
    "# 리스트를 저장할 때 값 자체가 아니라 값이 위치한 메모리의 주소를 저장한다. \n",
    "x = [1,2,3,4,5]\n",
    "# 객체복사\n",
    "y = x \n",
    "y[0] = 10 \n",
    "print(\"x = \", x)\n",
    "print(\"y = \", y)"
   ]
  },
  {
   "cell_type": "code",
   "execution_count": null,
   "id": "0329f618",
   "metadata": {},
   "outputs": [],
   "source": [
    "# 주소가 아니라 값만 갖고 오고 싶을 때 \n",
    "x = [1,2,3,4,5]\n",
    "y = x[:] # slicing[start:stop]  # 이게 바로 값만 가지고 오는 동작이다. \n",
    "y[0] = 10 \n",
    "print(\"x = \", x)\n",
    "print(\"y = \", y)"
   ]
  },
  {
   "cell_type": "code",
   "execution_count": null,
   "id": "a6743400",
   "metadata": {},
   "outputs": [],
   "source": [
    "x = [1, 2, 3, 4, 5]\n",
    "print(x[0:2]) # 0, 1\n",
    "print(x[1:])"
   ]
  },
  {
   "cell_type": "code",
   "execution_count": null,
   "id": "983cb953",
   "metadata": {},
   "outputs": [],
   "source": [
    "# 리스트 연산 : 더하기(+) 연산\n",
    "a = [1,2,3]\n",
    "b = [5,6,7]\n",
    "c = a+b # extend(확장)의 의미, 리스트가 가로로 연결된다. \n",
    "# a.extend(b)  이거는 별도의 변수에 저장 못해, d = a.extend(b) 이렇게 못쓴다\n",
    "print(\"c = \", c)"
   ]
  },
  {
   "cell_type": "code",
   "execution_count": null,
   "id": "c4e73d1d",
   "metadata": {},
   "outputs": [],
   "source": [
    "a.extend(b)\n",
    "print(a)"
   ]
  },
  {
   "cell_type": "code",
   "execution_count": null,
   "id": "eebcc548",
   "metadata": {},
   "outputs": [],
   "source": [
    "# 문자열도 시퀀스 자료형\n",
    "# 문자열 + 문자열\n",
    "\"hello\" + \"python\""
   ]
  },
  {
   "cell_type": "code",
   "execution_count": null,
   "id": "82b48257",
   "metadata": {},
   "outputs": [],
   "source": [
    "# 리스트 연산 : 곱셈(*), 반복, 리스트 * 반복횟수 \n",
    "a = [1,2,3]\n",
    "b = a * 3\n",
    "print(b)"
   ]
  },
  {
   "cell_type": "code",
   "execution_count": null,
   "id": "eb6908ea",
   "metadata": {},
   "outputs": [],
   "source": [
    "\"hello \" * 3\n",
    "b = \"*\"\n",
    "print(b)"
   ]
  },
  {
   "cell_type": "code",
   "execution_count": null,
   "id": "c614fea2",
   "metadata": {},
   "outputs": [],
   "source": [
    "a = [1,2,3]\n",
    "a[1:2] = ['a', 'b', 'c']\n",
    "a"
   ]
  },
  {
   "cell_type": "code",
   "execution_count": null,
   "id": "e447105c",
   "metadata": {},
   "outputs": [],
   "source": [
    "a = [1,2,3]\n",
    "a[1:3] = [] # 인덱스 1과 2번값을 삭제 \n",
    "a"
   ]
  },
  {
   "cell_type": "code",
   "execution_count": null,
   "id": "0c5fe506",
   "metadata": {},
   "outputs": [],
   "source": [
    "a = [1,2,3]\n",
    "del a[1]\n",
    "a"
   ]
  },
  {
   "cell_type": "code",
   "execution_count": null,
   "id": "58f11a40",
   "metadata": {},
   "outputs": [],
   "source": [
    "a = [1, 4, 2, 3]\n",
    "a.sort()\n",
    "a\n"
   ]
  },
  {
   "cell_type": "code",
   "execution_count": null,
   "id": "5496d374",
   "metadata": {},
   "outputs": [],
   "source": [
    "a = [1, 4, 2, 3]\n",
    "a.reverse() # 뒤집어라 \n",
    "a"
   ]
  },
  {
   "cell_type": "code",
   "execution_count": null,
   "id": "bd714eef",
   "metadata": {},
   "outputs": [],
   "source": [
    "a = [1, 4, 2, 3]\n",
    "a.sort(reverse=True)  # 위에랑 헷갈리지 말기 \n",
    "a"
   ]
  },
  {
   "cell_type": "code",
   "execution_count": null,
   "id": "f1c9d344",
   "metadata": {},
   "outputs": [],
   "source": [
    "a = ['a', 'd', 'b', 'c'] #사전순 = 알파벳순으로 \n",
    "a.sort()\n",
    "a"
   ]
  },
  {
   "cell_type": "code",
   "execution_count": null,
   "id": "4d63f7fc",
   "metadata": {},
   "outputs": [],
   "source": [
    "a = [1,2,3,4,5]\n",
    "print(a.index(3)) # 3이라는 값이 몇번째 위치에 있는가 \n",
    "# 없는 데이터의 위치를 찾으면 에러 발생 print(b.index('h'))"
   ]
  },
  {
   "cell_type": "code",
   "execution_count": null,
   "id": "5d983011",
   "metadata": {},
   "outputs": [],
   "source": [
    "a = [1,2,3]\n",
    "a.insert(0,4) # 0자리에 4를 넣어라 \n",
    "print(a)"
   ]
  },
  {
   "cell_type": "code",
   "execution_count": null,
   "id": "33d4a093",
   "metadata": {},
   "outputs": [],
   "source": [
    "a = [1, 2, 3, 1, 2, 3]\n",
    "# 값이 3인 요소 삭제 ( 1개만 )\n",
    "a.remove(3) # 값으로 삭제 \n",
    "print(a)\n"
   ]
  },
  {
   "cell_type": "code",
   "execution_count": null,
   "id": "ae42cdb1",
   "metadata": {},
   "outputs": [],
   "source": [
    "del a[0] # 인덱스로 삭제 \n"
   ]
  },
  {
   "cell_type": "code",
   "execution_count": null,
   "id": "5a2b1ed7",
   "metadata": {},
   "outputs": [],
   "source": [
    "a = [1,2,3]\n",
    "b = a.pop() # 리스트의 마지막 요소를 추출\n",
    "print(a)\n",
    "print(b)"
   ]
  },
  {
   "cell_type": "code",
   "execution_count": null,
   "id": "68735e4b",
   "metadata": {},
   "outputs": [],
   "source": [
    "# 요소의 개수(건수)\n",
    "a = [1,2,3,1,2,1]\n",
    "b = a.count(1) # 값이 1인 요소가 몇개인지 계산하는 함수 \n",
    "print(b)"
   ]
  },
  {
   "cell_type": "code",
   "execution_count": null,
   "id": "85331e43",
   "metadata": {},
   "outputs": [],
   "source": [
    "# 리스트의 확장\n",
    "a = [1,2,3]\n",
    "# 리스트1.extend(리스트2) > 리스트1 확장 \n",
    "a.extend([4,5])  # a.extend(6)이렇게 쓰면 리스트 아님\n",
    "# 반드시 리스트로 담아야 한다. \n",
    "print(a)"
   ]
  },
  {
   "cell_type": "code",
   "execution_count": null,
   "id": "01bc8f96",
   "metadata": {},
   "outputs": [],
   "source": [
    "b = [7,8]\n",
    "print(a+b)"
   ]
  },
  {
   "cell_type": "code",
   "execution_count": null,
   "id": "a0ee2bfc",
   "metadata": {},
   "outputs": [],
   "source": [
    "# 값 in 리스트, 값 not in 리스트 => 결과는 True or False\n",
    "a = [1,2,3,4,5]\n",
    "result = 2 in a # 있으면 True, 없으면 False\n",
    "print(result)\n",
    "\n",
    "result = 2 not in a # 없으면 True, 있으면 False\n",
    "print(result)"
   ]
  },
  {
   "cell_type": "markdown",
   "id": "0ef1ff37",
   "metadata": {},
   "source": [
    "# 튜플 (Tuple)"
   ]
  },
  {
   "cell_type": "code",
   "execution_count": null,
   "id": "b0b0fd06",
   "metadata": {},
   "outputs": [],
   "source": [
    "t1 = (1, 2, 'a', 'b')\n",
    "print(t1[1:])\n",
    "t2 = (3,4 )\n",
    "print(t1 + t2)\n",
    "t1 = t1 + t2  # 새로운 튜플을 생성한다는 의미로 이해해야 한다. \n",
    "print(\"t1 = \", t1)\n",
    "print(t1 * 3)"
   ]
  },
  {
   "cell_type": "code",
   "execution_count": 6,
   "id": "f3b5060b",
   "metadata": {},
   "outputs": [
    {
     "name": "stdout",
     "output_type": "stream",
     "text": [
      "a =  20 b =  10\n"
     ]
    }
   ],
   "source": [
    "a = 10 \n",
    "b = 20 \n",
    "a, b = (b, a)\n",
    "print(\"a = \", a, \"b = \", b)"
   ]
  },
  {
   "cell_type": "code",
   "execution_count": 1,
   "id": "e2417e87",
   "metadata": {},
   "outputs": [
    {
     "name": "stdout",
     "output_type": "stream",
     "text": [
      "1 2\n"
     ]
    }
   ],
   "source": [
    "#packing(패킹) : 여러 개의 값을 하나의 변수에 저장하는 것\n",
    "t1 = (1,2,3)\n",
    "\n",
    "# unpacking : 하나의 변수에 담은 값을 각각의 변수에 할당하는 것\n",
    "# 데이터의 개수와 변수의 개수는 반드시 일치해야 한다. \n",
    "n1, n2, n3 = t1\n",
    "t1\n",
    "\n",
    "# 출력형식이 포함된 문자열.format(값1, 값2, 값3)\n",
    "print(\"{0} {1}\".format(n1, n2))\n"
   ]
  },
  {
   "cell_type": "code",
   "execution_count": 2,
   "id": "1d55eaa6",
   "metadata": {},
   "outputs": [],
   "source": [
    "# 형변환 : int(), float(), str()\n",
    "# 자료 구조의 형 변환 : list(), tuple()\n",
    "\n"
   ]
  },
  {
   "cell_type": "code",
   "execution_count": 4,
   "id": "f19919b5",
   "metadata": {},
   "outputs": [
    {
     "name": "stdout",
     "output_type": "stream",
     "text": [
      "(1, 2, 3)\n",
      "['a', 'b', 'c']\n"
     ]
    }
   ],
   "source": [
    "\n",
    "my_list= [1,2,3]\n",
    "my_tuple=('a','b','c')\n",
    "\n",
    "print(tuple(my_list))\n",
    "print(list(my_tuple))"
   ]
  },
  {
   "cell_type": "markdown",
   "id": "f217766b",
   "metadata": {},
   "source": [
    "# 딕셔너리 "
   ]
  },
  {
   "cell_type": "markdown",
   "id": "090e862c",
   "metadata": {},
   "source": [
    "##  \n",
    "- 키(key)와 값(value)를 쌍으로 담아서 관리하는 자료 구조 \n",
    "- 저장된 각 값에 대한 순서는 의미가 없다. \n",
    "- 저장된 데이터는 키(key)에 의해 조회된다.  \n",
    "- 키(key)는 중복을 허용하지 않는다. \n",
    "- 중괄호 {}를 사용하여 데이터를 표현한다. \n",
    "- 컴마(,)를 기준으로 아이템 구분\n",
    "- 사전의 원소 => key: value(쌍으로 이루어짐)\n",
    "- 사전.keys()=> key만 추출(임의의 순서)\n",
    "- 사전.values()=> value만 추출(임의의 순서)\n",
    "- 사전.items()=> key와 value를 튜플로 추출(임의의 순서)\n",
    "- keys, values, items가 반환하는 자료형 =>리스트 "
   ]
  },
  {
   "cell_type": "code",
   "execution_count": 5,
   "id": "59579a67",
   "metadata": {},
   "outputs": [
    {
     "name": "stdout",
     "output_type": "stream",
     "text": [
      "{1: 'a'}\n",
      "<class 'dict'>\n"
     ]
    }
   ],
   "source": [
    "# 딕셔너리{key:value, key:value, key:value}\n",
    "# key는 숫자 인덱스보다 문자 인덱스를 선호(권장)\n",
    "\n",
    "a = {1:'a'}\n",
    "print(a)\n",
    "print(type(a))\n"
   ]
  },
  {
   "cell_type": "code",
   "execution_count": 6,
   "id": "a6e0ec5c",
   "metadata": {},
   "outputs": [
    {
     "name": "stdout",
     "output_type": "stream",
     "text": [
      "{1: 'a', 2: 'b'}\n"
     ]
    }
   ],
   "source": [
    "# 사전에 아이템(item) 추가\n",
    "a[2] = 'b'\n",
    "print(a)"
   ]
  },
  {
   "cell_type": "code",
   "execution_count": 2,
   "id": "305cfd31",
   "metadata": {},
   "outputs": [
    {
     "name": "stdout",
     "output_type": "stream",
     "text": [
      "{'[name]': '홍길동', 'phone': '010-4024-1234', 'age': '55'}\n"
     ]
    }
   ],
   "source": [
    "stu = {'[name]':'홍길동', 'phone':'010-4024-1234','age':'55'}\n",
    "print(stu)"
   ]
  },
  {
   "cell_type": "code",
   "execution_count": 13,
   "id": "acff6a99",
   "metadata": {},
   "outputs": [
    {
     "name": "stdout",
     "output_type": "stream",
     "text": [
      "홍길동\n",
      "홍길동\n",
      "55\n",
      "55\n"
     ]
    }
   ],
   "source": [
    "# 키를 이용해서 값을 조회\n",
    "print(stu['name']) #딕셔너리[key]\n",
    "print(stu.get('name')) # 딕셔너리.get(key)\n",
    "\n",
    "\n",
    "print(stu['age'])\n",
    "print(stu.get('age'))"
   ]
  },
  {
   "cell_type": "code",
   "execution_count": 10,
   "id": "0eff42c6",
   "metadata": {},
   "outputs": [
    {
     "data": {
      "text/plain": [
       "dict_keys(['name', 'phone', 'age'])"
      ]
     },
     "execution_count": 10,
     "metadata": {},
     "output_type": "execute_result"
    }
   ],
   "source": [
    "# keys 조회\n",
    "stu.keys()"
   ]
  },
  {
   "cell_type": "code",
   "execution_count": 14,
   "id": "fcc308c3",
   "metadata": {},
   "outputs": [
    {
     "data": {
      "text/plain": [
       "dict_values(['홍길동', '010-4024-1234', '55'])"
      ]
     },
     "execution_count": 14,
     "metadata": {},
     "output_type": "execute_result"
    }
   ],
   "source": [
    "# values 조회\n",
    "stu.values()"
   ]
  },
  {
   "cell_type": "code",
   "execution_count": 17,
   "id": "d32e26f9",
   "metadata": {},
   "outputs": [
    {
     "name": "stdout",
     "output_type": "stream",
     "text": [
      "name ==> 홍길동\n",
      "phone ==> 010-4024-1234\n",
      "age ==> 55\n"
     ]
    }
   ],
   "source": [
    "# items : key와 value 모두 출력 \n",
    "stu.items()\n",
    "\n",
    "# for 개별변수 in 집합변수 \n",
    "for k in stu.keys(): # for k in ['names','phone','age']\n",
    "    print(k, \"==>\", stu[k])   # 리스트 "
   ]
  },
  {
   "cell_type": "code",
   "execution_count": 18,
   "id": "5e0f995e",
   "metadata": {},
   "outputs": [
    {
     "name": "stdout",
     "output_type": "stream",
     "text": [
      "['name', 'phone', 'age']\n"
     ]
    }
   ],
   "source": [
    "b = list(stu.keys())\n",
    "print(b)"
   ]
  },
  {
   "cell_type": "code",
   "execution_count": 19,
   "id": "e5ee0964",
   "metadata": {},
   "outputs": [
    {
     "name": "stdout",
     "output_type": "stream",
     "text": [
      "['홍길동', '010-4024-1234', '55']\n"
     ]
    }
   ],
   "source": [
    "c = list(stu.values())\n",
    "print(c)"
   ]
  },
  {
   "cell_type": "code",
   "execution_count": 20,
   "id": "ba823488",
   "metadata": {},
   "outputs": [
    {
     "name": "stdout",
     "output_type": "stream",
     "text": [
      "[('name', '홍길동'), ('phone', '010-4024-1234'), ('age', '55')]\n"
     ]
    }
   ],
   "source": [
    "d = list(stu.items())\n",
    "print(d)"
   ]
  },
  {
   "cell_type": "code",
   "execution_count": 22,
   "id": "43a5de6c",
   "metadata": {},
   "outputs": [
    {
     "name": "stdout",
     "output_type": "stream",
     "text": [
      "홍길동\n"
     ]
    }
   ],
   "source": [
    "print(d[0][1])"
   ]
  },
  {
   "cell_type": "code",
   "execution_count": 23,
   "id": "9daeb974",
   "metadata": {},
   "outputs": [
    {
     "name": "stdout",
     "output_type": "stream",
     "text": [
      "name ==> 홍길동\n",
      "phone ==> 010-4024-1234\n",
      "age ==> 55\n"
     ]
    }
   ],
   "source": [
    "for k,v in stu.items():  # 파이썬만 개별변수 2개쓰는거 가능하다고 하는구만\n",
    "    print(k, \"==>\", v)"
   ]
  },
  {
   "cell_type": "code",
   "execution_count": 25,
   "id": "1f3fcac4",
   "metadata": {},
   "outputs": [
    {
     "name": "stdout",
     "output_type": "stream",
     "text": [
      "{'name': '홍길동', 'phone': '010-4024-1234', 'age': '55', 'weight': 67.4}\n"
     ]
    }
   ],
   "source": [
    "# 새로운 item 추가\n",
    "stu['weight'] = 67.4\n",
    "print(stu)"
   ]
  },
  {
   "cell_type": "code",
   "execution_count": 26,
   "id": "07bc5086",
   "metadata": {},
   "outputs": [
    {
     "data": {
      "text/plain": [
       "True"
      ]
     },
     "execution_count": 26,
     "metadata": {},
     "output_type": "execute_result"
    }
   ],
   "source": [
    "'weight' in stu"
   ]
  },
  {
   "cell_type": "markdown",
   "id": "0dfb76f4",
   "metadata": {},
   "source": [
    "# 집합(set)"
   ]
  },
  {
   "cell_type": "code",
   "execution_count": 27,
   "id": "141ac63a",
   "metadata": {},
   "outputs": [
    {
     "data": {
      "text/plain": [
       "{1, 2, 3, 4, 5}"
      ]
     },
     "execution_count": 27,
     "metadata": {},
     "output_type": "execute_result"
    }
   ],
   "source": [
    "# 집합 자료형 : 중복값은 허용하지 않으며, 순서대로 저장되지 않는다.\n",
    "s1 = set([5,4,3,2,1,1,2,3,4,5])\n",
    "s1"
   ]
  },
  {
   "cell_type": "code",
   "execution_count": 33,
   "id": "66c8b12c",
   "metadata": {},
   "outputs": [
    {
     "name": "stdout",
     "output_type": "stream",
     "text": [
      " 교집합 :  {4, 5, 6}\n",
      "합집합 =  {1, 2, 3, 4, 5, 6, 7, 8, 9}\n",
      " 차집합 :  {1, 2, 3}\n"
     ]
    }
   ],
   "source": [
    "s1 = set([1,2,3,4,5,6])\n",
    "s2 = set([4,5,6,7,8,9])\n",
    "\n",
    "# 교집합, &\n",
    "a = s1 & s2\n",
    "print(\" 교집합 : \" , a)\n",
    "\n",
    "#합집합, |\n",
    "b = s1 | s2\n",
    "print(\"합집합 = \" , b)\n",
    "\n",
    "# 차집합, - \n",
    "c = s1 - s2\n",
    "print(\" 차집합 : \" , c) \n"
   ]
  },
  {
   "cell_type": "code",
   "execution_count": 35,
   "id": "7b6b6b2e",
   "metadata": {},
   "outputs": [
    {
     "name": "stdout",
     "output_type": "stream",
     "text": [
      "교집합 :  {4, 5, 6}\n",
      "합집합 :  {1, 2, 3, 4, 5, 6, 7, 8, 9}\n",
      "차집합: {1, 2, 3}\n"
     ]
    }
   ],
   "source": [
    "print(\"교집합 : \", s1.intersection(s2))\n",
    "print(\"합집합 : \", s1.union(s2))\n",
    "print(\"차집합:\", s1.difference(s2))"
   ]
  },
  {
   "cell_type": "code",
   "execution_count": 2,
   "id": "e42cd963",
   "metadata": {},
   "outputs": [
    {
     "name": "stdout",
     "output_type": "stream",
     "text": [
      "{1, 2, 3, 4}\n",
      "{1, 2, 3, 4}\n"
     ]
    }
   ],
   "source": [
    "s1 = set([1,2,3])\n",
    "# 요소 추가\n",
    "s1.add(4)  # 이걸 2번한다고 해서 s1안에 4가 두개 생기는건 아니다. 집합 중복 불가\n",
    "print(s1)\n",
    "#s1.add(4,5) #1개만 추가, 에러발생\n",
    "print(s1)"
   ]
  },
  {
   "cell_type": "code",
   "execution_count": 10,
   "id": "3e769fa8",
   "metadata": {},
   "outputs": [
    {
     "name": "stdout",
     "output_type": "stream",
     "text": [
      "{1, 2, 3, 4, 5, 6, 10}\n"
     ]
    }
   ],
   "source": [
    "s1 = set([1,2,3])\n",
    "s1.update([4,5,6])\n",
    "s1.update([3,4,10])\n",
    "print(s1)\n",
    "s1.update([3,4])"
   ]
  },
  {
   "cell_type": "code",
   "execution_count": 39,
   "id": "1acc1811",
   "metadata": {
    "scrolled": true
   },
   "outputs": [
    {
     "name": "stdout",
     "output_type": "stream",
     "text": [
      "{1, 3, 4, 5, 6}\n"
     ]
    }
   ],
   "source": [
    "s1.remove(2) # 값 제거\n",
    "print(s1)"
   ]
  },
  {
   "cell_type": "code",
   "execution_count": 40,
   "id": "458e3784",
   "metadata": {},
   "outputs": [
    {
     "name": "stdout",
     "output_type": "stream",
     "text": [
      "{'a': 10}\n",
      "{10}\n"
     ]
    }
   ],
   "source": [
    "dic = {'a':10}\n",
    "sse = {10}\n",
    "print(dic)\n",
    "print(sse)"
   ]
  },
  {
   "cell_type": "code",
   "execution_count": 41,
   "id": "a441a62c",
   "metadata": {},
   "outputs": [
    {
     "name": "stdout",
     "output_type": "stream",
     "text": [
      "x 주소 :  1817537960832\n",
      "y 주소 :  1817537960832\n"
     ]
    }
   ],
   "source": [
    "x = (1, 2, 3, 4, 5)\n",
    "y = x\n",
    "print(\"x 주소 : \", id(x))\n",
    "print(\"y 주소 : \", id(y))\n"
   ]
  },
  {
   "cell_type": "code",
   "execution_count": 44,
   "id": "74b99a3f",
   "metadata": {},
   "outputs": [
    {
     "name": "stdout",
     "output_type": "stream",
     "text": [
      "x 주소 :  1817423014480\n",
      "y 주소 :  1817423014800\n"
     ]
    }
   ],
   "source": [
    "x = 10\n",
    "y = 20\n",
    "print(\"x 주소 : \", id(x))\n",
    "print(\"y 주소 : \", id(y))\n"
   ]
  },
  {
   "cell_type": "code",
   "execution_count": 45,
   "id": "1318e0c5",
   "metadata": {},
   "outputs": [
    {
     "name": "stdout",
     "output_type": "stream",
     "text": [
      "x 주소 :  1817423014800\n",
      "y 주소 :  1817423014480\n"
     ]
    }
   ],
   "source": [
    "x, y = y, x  # 값도 바뀌고 주소도 바뀐다. \n",
    "print(\"x 주소 : \", id(x))\n",
    "print(\"y 주소 : \", id(y))"
   ]
  },
  {
   "cell_type": "markdown",
   "id": "6e18940e",
   "metadata": {},
   "source": [
    "# 날짜 자료형"
   ]
  },
  {
   "cell_type": "markdown",
   "id": "4dc307d1",
   "metadata": {},
   "source": [
    "import 모듈명 // 해당 모듈의 모든 내용을 가져온다. \n",
    "from 모듈명 import 함수나 변수 // 해당 모듈에서 특정 함수나 변수를 가져온다. "
   ]
  },
  {
   "cell_type": "code",
   "execution_count": 49,
   "id": "27908aae",
   "metadata": {},
   "outputs": [],
   "source": [
    "# 날짜 관련 함수를 가지고 있는 모듈을 포함\n",
    "# import datetime 해당 모듈(datetime) 전체를 가져온다는 의미.\n",
    "from datetime import date, time, datetime, timedelta \n"
   ]
  },
  {
   "cell_type": "code",
   "execution_count": 52,
   "id": "d2dd3a10",
   "metadata": {},
   "outputs": [
    {
     "name": "stdout",
     "output_type": "stream",
     "text": [
      "today : 2022-09-01\n"
     ]
    }
   ],
   "source": [
    "# date 변수, today() - 오늘 날짜를 구하는 함수 \n",
    "today = date.today()  #date 가 가지고 있는 today라는 함수를 today라는 변수에 저장 \n",
    "print(\"today : {}\".format(today))"
   ]
  },
  {
   "cell_type": "code",
   "execution_count": 53,
   "id": "e764df28",
   "metadata": {},
   "outputs": [
    {
     "name": "stdout",
     "output_type": "stream",
     "text": [
      "연도 : 2022\n",
      "월 : 9\n",
      "일 : 1\n"
     ]
    }
   ],
   "source": [
    "print(\"연도 : {}\".format(today.year))\n",
    "print(\"월 : {}\".format(today.month))\n",
    "print(\"일 : {}\".format(today.day))  "
   ]
  },
  {
   "cell_type": "code",
   "execution_count": 54,
   "id": "1db3dfce",
   "metadata": {},
   "outputs": [
    {
     "name": "stdout",
     "output_type": "stream",
     "text": [
      "현재날짜와 시간 : 2022-09-01 12:50:21.260937\n"
     ]
    }
   ],
   "source": [
    "# 날짜와 시간을  구하기\n",
    "current_datetime= datetime.today()\n",
    "print(\"현재날짜와 시간 : {}\".format(current_datetime))"
   ]
  },
  {
   "cell_type": "code",
   "execution_count": 55,
   "id": "8d23b9c1",
   "metadata": {},
   "outputs": [
    {
     "name": "stdout",
     "output_type": "stream",
     "text": [
      "2022-09-01 14:24:30.852034\n",
      "<class 'datetime.datetime'>\n"
     ]
    }
   ],
   "source": [
    "# 형식화된 날짜 출력 : 서식 (%)\n",
    "# (%y, %yy, %yyyy)\n",
    "today = datetime.today()\n",
    "print(today)\n",
    "print(type(today))"
   ]
  },
  {
   "cell_type": "code",
   "execution_count": 60,
   "id": "74c0e926",
   "metadata": {},
   "outputs": [
    {
     "name": "stdout",
     "output_type": "stream",
     "text": [
      "2022-09-01 14:24:30\n",
      "<class 'str'>\n"
     ]
    }
   ],
   "source": [
    "# 날짜 자료형을 문자열로 형변환\n",
    "# %y - 년도, %m - 월, %M - 분, %H - 시간\n",
    "d = today.strftime(\"%Y-%m-%d %H:%M:%S\")\n",
    "print(d)\n",
    "print(type(d))"
   ]
  },
  {
   "cell_type": "code",
   "execution_count": 74,
   "id": "9c89c165",
   "metadata": {},
   "outputs": [
    {
     "name": "stdout",
     "output_type": "stream",
     "text": [
      "30 days, 0:00:00\n",
      "2022-08-25 14:24:30.852034\n",
      "2022-10-01 14:24:30.852034\n",
      "2022-09-01 06:24:30.852034\n"
     ]
    }
   ],
   "source": [
    "# 어제 날짜\n",
    "ddd = timedelta(days=-1)\n",
    "print(today + ddd)\n",
    "# 1주일 전\n",
    "days = timedelta(days= -7)\n",
    "print(today + days)\n",
    "# 30일 후 \n",
    "days = timedelta(days= 30)\n",
    "print(today + days)\n",
    "\n",
    "# 8시간 전 \n",
    "hours = timedelta(hours = - 8)\n",
    "print( today + hours)"
   ]
  },
  {
   "cell_type": "markdown",
   "id": "9b18f4b2",
   "metadata": {},
   "source": [
    "# 리스트 내포(List Comprehension)"
   ]
  },
  {
   "cell_type": "code",
   "execution_count": 75,
   "id": "b7cd0aa8",
   "metadata": {},
   "outputs": [
    {
     "name": "stdout",
     "output_type": "stream",
     "text": [
      "[2, 4, 6, 8, 10]\n"
     ]
    }
   ],
   "source": [
    "a = [] #a = list()\n",
    "\n",
    "for i in range(1, 6): # [1, 2, 3, 4, 5] == range(1,6)\n",
    "    a.append(i*2) # append = 추가 \n",
    "    \n",
    "print(a)"
   ]
  },
  {
   "cell_type": "code",
   "execution_count": 76,
   "id": "4a47a5b0",
   "metadata": {},
   "outputs": [
    {
     "name": "stdout",
     "output_type": "stream",
     "text": [
      "[2, 4, 6, 8, 10]\n"
     ]
    }
   ],
   "source": [
    "# 출력\n",
    "a = [ i * 2 for i in range(1,6)]\n",
    "print(a)"
   ]
  },
  {
   "cell_type": "code",
   "execution_count": 80,
   "id": "95c32861",
   "metadata": {},
   "outputs": [
    {
     "name": "stdout",
     "output_type": "stream",
     "text": [
      "['사과', '자두', '바나나', '체리']\n"
     ]
    }
   ],
   "source": [
    "** 복습하기 \n",
    "array = ['사과','자두','초콜릿','바나나','체리']\n",
    "output = []\n",
    "\n",
    "for i in array:\n",
    "    if i != '초콜릿':\n",
    "        output.append(i)\n",
    "    \n",
    "print(output)"
   ]
  },
  {
   "cell_type": "code",
   "execution_count": 84,
   "id": "3ea37435",
   "metadata": {},
   "outputs": [
    {
     "name": "stdout",
     "output_type": "stream",
     "text": [
      "['사과', '자두', '바나나', '체리']\n"
     ]
    }
   ],
   "source": [
    "# 인라인 함수 in line - 한 줄로 작성된 함수. \n",
    "array = ['사과','자두','초콜릿','바나나','체리']\n",
    "output = [i for i in array if i != '초콜릿']\n",
    "\n",
    "print(output)"
   ]
  },
  {
   "attachments": {},
   "cell_type": "markdown",
   "id": "b52b0809",
   "metadata": {},
   "source": [
    "# 트리만들기"
   ]
  },
  {
   "cell_type": "code",
   "execution_count": 11,
   "id": "d6f78cff",
   "metadata": {},
   "outputs": [
    {
     "name": "stdout",
     "output_type": "stream",
     "text": [
      "     \n",
      "    **\n",
      "   ****\n",
      "  ******\n",
      " ********\n"
     ]
    }
   ],
   "source": [
    "h = int(input())\n",
    "if h %2 == 0: # 짝수이면\n",
    "    print('짝수 입력 X')\n",
    "else:\n",
    "    for i in range(h):\n",
    "        print(\" \"*(h-i), \"*\"*i, \"*\"*i, sep=\"\")\n",
    "        \n",
    "        "
   ]
  },
  {
   "cell_type": "code",
   "execution_count": 14,
   "id": "f848dd21",
   "metadata": {},
   "outputs": [
    {
     "name": "stdout",
     "output_type": "stream",
     "text": [
      "    *\n",
      "   ***\n",
      "  *****\n",
      " *******\n",
      "*********\n"
     ]
    }
   ],
   "source": [
    "h = int(input())\n",
    "\n",
    "for i in range(h):\n",
    "    for j in reversed(range(h)):\n",
    "        if j > i:\n",
    "            print(' ', end='')\n",
    "        else:\n",
    "            print('*', end='')\n",
    "    for j in range(h):\n",
    "        if j < i:\n",
    "            print('*', end='')\n",
    "    print() # 줄바꿈 "
   ]
  }
 ],
 "metadata": {
  "kernelspec": {
   "display_name": "Python 3 (ipykernel)",
   "language": "python",
   "name": "python3"
  },
  "language_info": {
   "codemirror_mode": {
    "name": "ipython",
    "version": 3
   },
   "file_extension": ".py",
   "mimetype": "text/x-python",
   "name": "python",
   "nbconvert_exporter": "python",
   "pygments_lexer": "ipython3",
   "version": "3.9.13"
  },
  "toc": {
   "base_numbering": 1,
   "nav_menu": {},
   "number_sections": true,
   "sideBar": true,
   "skip_h1_title": false,
   "title_cell": "Table of Contents",
   "title_sidebar": "Contents",
   "toc_cell": false,
   "toc_position": {
    "height": "calc(100% - 180px)",
    "left": "10px",
    "top": "150px",
    "width": "303.837px"
   },
   "toc_section_display": true,
   "toc_window_display": true
  }
 },
 "nbformat": 4,
 "nbformat_minor": 5
}
