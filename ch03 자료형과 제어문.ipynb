{
 "cells": [
  {
   "cell_type": "markdown",
   "id": "71f8b85a",
   "metadata": {},
   "source": [
    "# 자료구조 \n",
    "- 데이터를 저장하는 기억공간을 효율적으로 사용할 수 있도록 도와주는 기능 \n",
    "- 기억공간을 효율적으로 사용한다는 것은 낭비를 최소화하고 처리속도를 빠르게 \n",
    "- 파이썬에서 제공하는 자료구조 : 리스트, 튜플 세트, 딕셔너리, 데이터프레임 \n"
   ]
  },
  {
   "cell_type": "markdown",
   "id": "a3143eba",
   "metadata": {},
   "source": [
    "## 리스트(List)\n",
    "- 임의의 객체를 순서대로 저장하는 자료형(시퀀스_sequence 자료형)\n",
    "- 각 데이터의 값이 담겨지는 위치를 인덱스(index)라고 부른다. \n",
    "- 인덱스는 0부터 시작된다. \n",
    "- 변경 가능 \n",
    "- 대괄호 []를 사용하여 데이터를 표현한다. \n",
    "- \n",
    "- <보원 노트>\n",
    "- 배열(Array) 파이썬에서는 List라고 한다.\n",
    "- 동질의 자료형을 하나의 이름으로 묶어서 관리하는 자료구조\n",
    "- 자료구조의 가장 작은 단위가 변수다 \n"
   ]
  },
  {
   "cell_type": "code",
   "execution_count": null,
   "id": "0bdd745b",
   "metadata": {},
   "outputs": [],
   "source": [
    "# 리스트(list) : 하나의 변수에 여러 값을 할당하는 자료구조, 자료형 \n",
    "# 시퀀스 자료형 : 순서대로 데이터를 저장하는 자료형(리스트, 문자열, 튜플)\n",
    "a = [10, 20, 30, 40, 50]\n",
    "a\n",
    "print(type(a))"
   ]
  },
  {
   "cell_type": "code",
   "execution_count": null,
   "id": "b238aa67",
   "metadata": {},
   "outputs": [],
   "source": [
    "b = ['red', 'blue', 'green']\n",
    "b"
   ]
  },
  {
   "cell_type": "code",
   "execution_count": null,
   "id": "2644cd58",
   "metadata": {},
   "outputs": [],
   "source": [
    "# 인덱스(index) : 데이터의 위치\n",
    "b[0]"
   ]
  },
  {
   "cell_type": "code",
   "execution_count": null,
   "id": "b6172f9b",
   "metadata": {},
   "outputs": [],
   "source": [
    "b[-1]"
   ]
  },
  {
   "cell_type": "code",
   "execution_count": null,
   "id": "74d5849a",
   "metadata": {},
   "outputs": [],
   "source": [
    "# 중첩 리스트 : 리스트 안에 또 다른 리스트를 담는 것 \n",
    "x = [1, 2, 3, ['a', 'b', 'c']]\n",
    "x\n",
    "x[-1]"
   ]
  },
  {
   "cell_type": "code",
   "execution_count": null,
   "id": "0a56659c",
   "metadata": {},
   "outputs": [],
   "source": [
    "x[3]"
   ]
  },
  {
   "cell_type": "code",
   "execution_count": null,
   "id": "b10aa3aa",
   "metadata": {
    "scrolled": true
   },
   "outputs": [],
   "source": [
    "x[3][1]"
   ]
  },
  {
   "cell_type": "code",
   "execution_count": null,
   "id": "a68deb97",
   "metadata": {},
   "outputs": [],
   "source": [
    "x[-1][-1]"
   ]
  },
  {
   "cell_type": "code",
   "execution_count": null,
   "id": "0a1efef3",
   "metadata": {},
   "outputs": [],
   "source": [
    "y = [1,2,3,4,5]\n",
    "y"
   ]
  },
  {
   "cell_type": "code",
   "execution_count": null,
   "id": "aa760c94",
   "metadata": {},
   "outputs": [],
   "source": [
    "# 변수 = 값 \n",
    "y[0] = 10 \n",
    "y"
   ]
  },
  {
   "cell_type": "code",
   "execution_count": null,
   "id": "73db07a5",
   "metadata": {},
   "outputs": [],
   "source": [
    "# 슬라이싱(slicing) : 리스트에 범위지정을 통해 데이터를 추출, start:end \n",
    "# 파이썬은 마지막 데이터를 포함하지 않는다. end-1번째까지만 추출 \n",
    "x = [1,2,3,4,5]\n",
    "x[0:5]\n",
    "x[:5]\n",
    "x[0:]\n",
    "x[:]"
   ]
  },
  {
   "cell_type": "code",
   "execution_count": null,
   "id": "a8c6446c",
   "metadata": {},
   "outputs": [],
   "source": [
    "cities = ['서울', '부산', '인천', '대구', '대전','광주','울산','수원']"
   ]
  },
  {
   "cell_type": "code",
   "execution_count": null,
   "id": "b4acd19c",
   "metadata": {},
   "outputs": [],
   "source": [
    "# 변수명[인덱스]\n",
    "# 변수명[시작인덱스:마지막인덱스], 마지막인덱스-1까지만 추출.\n",
    "print(cities)\n",
    "print(cities[1:])\n",
    "print(cities[::-1])"
   ]
  },
  {
   "cell_type": "code",
   "execution_count": null,
   "id": "6d694e65",
   "metadata": {},
   "outputs": [],
   "source": [
    "# 증가값(step) \n",
    "# 변수명[시작인덱스:마지막인덱스:증감값]\n",
    "cities[::2]"
   ]
  },
  {
   "cell_type": "code",
   "execution_count": null,
   "id": "84ad83ca",
   "metadata": {},
   "outputs": [],
   "source": [
    "print(cities[::-1]) # 역으로 슬라이싱 "
   ]
  },
  {
   "cell_type": "code",
   "execution_count": null,
   "id": "e8112159",
   "metadata": {},
   "outputs": [],
   "source": [
    "# 깊은 복사와 얕은 복사 \n",
    "a = [1,2,3,4,5] \n",
    "b = a[:] # 개체복사 # 얕은 복사 값만 가져오는 것임\n",
    "# b = a # 깊은 복사 : 아예 주소까지 같은 것임.\n",
    "print(\"a = \", a)\n",
    "print(\"b = \", b)"
   ]
  },
  {
   "cell_type": "code",
   "execution_count": null,
   "id": "91696a00",
   "metadata": {},
   "outputs": [],
   "source": [
    "a[0] = 10 \n",
    "print(\"a = \", a)\n",
    "print(\"b = \", b) # 얕은 복사 하면 a 값만 바뀌고 b 값은 안 바뀜."
   ]
  },
  {
   "cell_type": "code",
   "execution_count": null,
   "id": "7012c4ae",
   "metadata": {},
   "outputs": [],
   "source": [
    "# 자료형의 주소를 읽어오는 함수 : id()\n",
    "print(id(a))\n",
    "print(id(b))  # 주소가 같자냐?!"
   ]
  },
  {
   "cell_type": "markdown",
   "id": "e3bdcac8",
   "metadata": {},
   "source": [
    "### 리스트의 연산"
   ]
  },
  {
   "cell_type": "code",
   "execution_count": null,
   "id": "63fa781e",
   "metadata": {},
   "outputs": [],
   "source": [
    "# 덧셈연산 \n",
    "x = [1,2,3]\n",
    "y = [4,5,6]\n",
    "z = x + y # extend(확장)\n",
    "z"
   ]
  },
  {
   "cell_type": "code",
   "execution_count": null,
   "id": "7df95b53",
   "metadata": {},
   "outputs": [],
   "source": [
    "xx = ['red', 'blue', 'green']\n",
    "yy = ['orange', 'black', 'white']\n",
    "print(xx + yy)\n",
    "print(len(xx))"
   ]
  },
  {
   "cell_type": "code",
   "execution_count": null,
   "id": "e582bd99",
   "metadata": {},
   "outputs": [],
   "source": [
    "# 리스트 곱셈 : 반복하라 \n",
    "x3 = xx * 3\n",
    "print(len(x3))"
   ]
  },
  {
   "cell_type": "code",
   "execution_count": null,
   "id": "4c126cc9",
   "metadata": {},
   "outputs": [],
   "source": [
    "a = [1,2,3]\n",
    "print(a[2])\n",
    "print(\"hello\"+\"python\")\n",
    "print(a[2]+\"hi\") # Type Error 숫자와 문자는 못 더해 ! "
   ]
  },
  {
   "cell_type": "code",
   "execution_count": null,
   "id": "cc91f77b",
   "metadata": {},
   "outputs": [],
   "source": [
    "print(str(a[2])+\"hi\")"
   ]
  },
  {
   "cell_type": "code",
   "execution_count": null,
   "id": "b80995c0",
   "metadata": {},
   "outputs": [],
   "source": [
    "# in 연산 : 포함여부 , not in \n",
    "color = ['red', 'blue']\n",
    "color\n",
    "print('blue' in color)\n",
    "\n",
    "b = [11,30,99, 61, 42, 3]\n",
    "print(7 in b)\n",
    "print(3 in b)\n",
    "print(7 not in b)\n"
   ]
  },
  {
   "cell_type": "code",
   "execution_count": 3,
   "id": "999007a1",
   "metadata": {},
   "outputs": [
    {
     "name": "stdout",
     "output_type": "stream",
     "text": [
      "['red', 'blue', 'green']\n"
     ]
    }
   ],
   "source": [
    "# 리스트의 추가, 삭제 \n",
    "## append() : 새로운 데이터가 마지막 위치에 추가된다. \n",
    "color = ['red', 'blue','green']\n",
    "print(color)"
   ]
  },
  {
   "cell_type": "code",
   "execution_count": 4,
   "id": "7f8fa2d7",
   "metadata": {},
   "outputs": [
    {
     "data": {
      "text/plain": [
       "['red', 'blue', 'green', 'white']"
      ]
     },
     "execution_count": 4,
     "metadata": {},
     "output_type": "execute_result"
    }
   ],
   "source": [
    "color.append(\"white\")\n",
    "color"
   ]
  },
  {
   "cell_type": "code",
   "execution_count": null,
   "id": "9d041006",
   "metadata": {},
   "outputs": [],
   "source": [
    "# extend() : 기존 리스트에 새로운 리스트를 추가 \n",
    "color = ['red', 'blue','green']\n",
    "color.extend(['orange', 'black', 'white'])\n",
    "color"
   ]
  },
  {
   "cell_type": "code",
   "execution_count": null,
   "id": "a16e5eb4",
   "metadata": {},
   "outputs": [],
   "source": [
    "# insert(index, data)\n",
    "color.insert(0, 'orange')\n",
    "color"
   ]
  },
  {
   "cell_type": "code",
   "execution_count": null,
   "id": "1e73be47",
   "metadata": {},
   "outputs": [],
   "source": [
    "# remove(data)\n",
    "color.remove('orange') # orange가 하나만 지워지네? 그게 맞다\n",
    "color\n"
   ]
  },
  {
   "cell_type": "code",
   "execution_count": null,
   "id": "e81d8644",
   "metadata": {},
   "outputs": [],
   "source": [
    "# del : 인덱스를 이용한 삭제 \n",
    "del color[0]\n",
    "color"
   ]
  },
  {
   "cell_type": "code",
   "execution_count": null,
   "id": "933753d5",
   "metadata": {},
   "outputs": [],
   "source": [
    "# 패킹(packing)과 언패킹(unpacking)\n",
    "## packing : 하나의 변수에 여러 개의 데이터를 할당하는 것\n",
    "## unpacking : 하나의 변수에 담긴 여러 개의 각각의 변수로 반환 \n",
    "# tuple은 소괄호로 만들어야해 \n",
    "# tuple은 리스트와 유사하지만 a[0]= 10 과 같은 리스트 연산이 안된다. \n",
    "# 튜플은 수정할 수가 없기 때문이다. \n",
    "\n",
    "x = [1,2,3] # 이게 패킹이래 그러면 리스트랑 뭐가 다른 거여 \n",
    "a, b, c = x # 이게 언패킹 , []안에 있는 데이터 갯수만큼 같게 변수 만들어 줘야해 \n",
    "print(x,a,b,c)"
   ]
  },
  {
   "cell_type": "code",
   "execution_count": null,
   "id": "cec69083",
   "metadata": {},
   "outputs": [],
   "source": [
    "a, b, c, d = x  # 이런경우 에러 발생 "
   ]
  },
  {
   "cell_type": "code",
   "execution_count": null,
   "id": "5db20314",
   "metadata": {},
   "outputs": [],
   "source": [
    "# 이차원 리스트 \n",
    "kor = [49, 79, 20, 100, 80 ]\n",
    "eng = [88, 77, 99, 66, 50]\n",
    "math = [90, 100, 52, 60, 70]\n",
    "score = [kor, eng, math]\n",
    "score "
   ]
  },
  {
   "cell_type": "code",
   "execution_count": null,
   "id": "e7cadece",
   "metadata": {},
   "outputs": [],
   "source": [
    "print(kor)\n",
    "print(score[0])\n",
    "print(eng)\n",
    "print(score[1])\n",
    "print(math)\n",
    "print(score[2])"
   ]
  },
  {
   "cell_type": "code",
   "execution_count": null,
   "id": "a97cc16e",
   "metadata": {},
   "outputs": [],
   "source": [
    "# 두번째 학생의 국어점수 \n",
    "print(kor[1])\n",
    "print(score[0][1])"
   ]
  },
  {
   "cell_type": "code",
   "execution_count": null,
   "id": "c1bcc62a",
   "metadata": {},
   "outputs": [],
   "source": [
    "x = [1,2,3,4,5]\n",
    "y = x # 깊은 복사 - 주소도 같아진다. \n",
    "x[0] = 100\n",
    "print(x, y)"
   ]
  },
  {
   "cell_type": "code",
   "execution_count": null,
   "id": "eeadb53f",
   "metadata": {},
   "outputs": [],
   "source": [
    "# == : 값을 비교하는 연산자, is : 메모리의 주소를 비교하는 연산자. \n",
    "a = 300\n",
    "b = 300\n",
    "print(a==b)\n",
    "print(a is b)"
   ]
  },
  {
   "cell_type": "code",
   "execution_count": null,
   "id": "1e9dc06d",
   "metadata": {},
   "outputs": [],
   "source": [
    "# 파이썬은 -5에서부터 256까지 이미 메모리에 할당되어 있다. \n",
    "a = 257\n",
    "b = 257\n",
    "print( a == b)\n",
    "print( a is b )"
   ]
  },
  {
   "cell_type": "code",
   "execution_count": null,
   "id": "4a26207d",
   "metadata": {},
   "outputs": [],
   "source": [
    "# 리스트의 요소를 제거하는 작업\n",
    "## 인덱스를 이용해서 제거 : del 명령어, pop() 함수 \n",
    "a = [0,1,2,3,4,5]\n",
    "del a[1]\n",
    "a\n",
    "print(\"a = \", a)"
   ]
  },
  {
   "cell_type": "code",
   "execution_count": null,
   "id": "5d2e3072",
   "metadata": {},
   "outputs": [],
   "source": [
    "a.pop(2)\n",
    "print(\"a = \", a)"
   ]
  },
  {
   "cell_type": "code",
   "execution_count": null,
   "id": "32dccbdb",
   "metadata": {},
   "outputs": [],
   "source": [
    "# 모두 제거 : clear()\n",
    "a.clear()\n",
    "print(\"a = \", a)"
   ]
  },
  {
   "cell_type": "code",
   "execution_count": null,
   "id": "fa406b08",
   "metadata": {},
   "outputs": [],
   "source": [
    "# 정렬[sort] : 기본 오름차순\n",
    "b = [52, 100, 11, 36, 78, 1]\n",
    "b.sort()\n",
    "b"
   ]
  },
  {
   "cell_type": "code",
   "execution_count": null,
   "id": "24cd16c0",
   "metadata": {},
   "outputs": [],
   "source": [
    "b = [52, 100, 11, 36, 78, 1]\n",
    "b.sort(reverse=True)\n",
    "b"
   ]
  },
  {
   "cell_type": "code",
   "execution_count": null,
   "id": "7a0f7b46",
   "metadata": {},
   "outputs": [],
   "source": [
    "b = [52, 100, 11, 36, 78, 1]"
   ]
  },
  {
   "cell_type": "markdown",
   "id": "c6a2113f",
   "metadata": {},
   "source": [
    "int a  = 10 ;\n",
    "int b = 20 ; \n",
    "int c  = 30 ; \n",
    "int d = 0 ; \n",
    "d = a + b ;   - C언에 에서 이렇게 한다우 "
   ]
  },
  {
   "cell_type": "markdown",
   "id": "d217d1be",
   "metadata": {},
   "source": [
    "ex> int a = 10 ; \n",
    "ㅁㅁㅁㅁ \n",
    "1 - 스태틱영역 \n",
    "2- 동적할당영역 <== 10 ( int 니까 4 byte) \n",
    "3- 런타임 영역 - 실행될 때 필요한 파일들이 저장되는 곳 \n",
    "4- 레퍼런스 영역 - 참조영역 - 변수가 들어올 때 마다 4byte 할당 - 크기를 손댈 수는 없다. a,b,c 이렇게 이름은 정할 수 있다.  < == a\n",
    "2,4 번만 수정가능 \n",
    "\n",
    "int - 4byte\n",
    "float - 4 byte \n",
    "double - 8 byte\n",
    "\n",
    "int arr[4] - 4개를 묶었다. arr => 4byte 필요 =>4번 영역 , 실제 데이터가 저장되는 것은 4개 필요 =>2번 영역 16 byte \n",
    "index 를 붙인다. => arr의 0번째 위치, 1번째, 2번째, 3번째위치 . "
   ]
  },
  {
   "cell_type": "markdown",
   "id": "54e5b459",
   "metadata": {},
   "source": [
    "## 튜플(Tuple) ** 파이썬에서 중요한가봐\n",
    "- 리스트와 유사하지만 값을 변경할 수 없다. 즉, 읽기 전용 자료를 저장할 때 사용\n",
    "- 각 값에 대한 인덱스가 부여된다. \n",
    "- 변경 불가능\n",
    "- 소괄호 ()를 사용하여 데이터를 표현한다. "
   ]
  },
  {
   "cell_type": "markdown",
   "id": "8ece4e6c",
   "metadata": {},
   "source": [
    "## 사전(Dictionary) \n",
    "- 키(key)와 값(value)를 쌍으로 담아서 관리하는 자료 구조 \n",
    "- 저장된 각 값에 대한 순서는 의미가 없다. \n",
    "- 저장된 데이터는 키(key)에 의해 조회된다.  \n",
    "- 키(key)는 중복을 허용하지 않는다. \n",
    "- 중괄호 {}를 사용하여 데이터를 표현한다. \n",
    "- 컴마(,)를 기준으로 아이템 구분\n",
    "- 사전의 원소 => key: value(쌍으로 이루어짐)\n",
    "- 사전.keys()=> key만 추출(임의의 순서)\n",
    "- 사전.values()=> value만 추출(임의의 순서)\n",
    "- 사전.items()=> key와 value를 튜플로 추출(임의의 순서)\n",
    "- keys, values, items가 반환하는 자료형 =>리스트 \n"
   ]
  },
  {
   "cell_type": "markdown",
   "id": "b0c63aaf",
   "metadata": {},
   "source": [
    "## 집합(Set)\n",
    "- 인덱스가 없고 값만 저장되는 자료구조\n",
    "- 순서는 의미가 없다. \n",
    "- 중괄호 {}를 사용\n",
    "- 컴마(,)를 기준으로 데이터를 분리한다. \n",
    "- 중복값을 허용하지 않는다\n"
   ]
  },
  {
   "cell_type": "markdown",
   "id": "2e681f01",
   "metadata": {},
   "source": [
    "# 제어문\n",
    "1. 정의 : 프로그램의 흐름이나 순서를 제어할 때 사용하는 문장\n",
    "           일반적으로 프로그램은 위에서 아래로, 좌에서 우로 진행\n",
    "2. 조건문 or 비교/판단문 or 선택문\n",
    "    - 주어진 조건에 따라 프로그램의 실행을 선택 또는 변경\n",
    "    - 조건식은 반드시 그 결과가 참 또는 거짓으로 판정되는 식\n",
    "    - if문\n",
    "3. 반복문\n",
    "    - 동일하거나 유사한 성격을 가진 문장을 반복할 때 사용하는 문장\n",
    "    - 주어진 조건이 참일 때 문장을 반복\n",
    "    - 유사한 성격이란 동일한 행위를 하되 일정한 규칙을 가지고 있는 문장\n",
    "    - for문, while문\n",
    "    \n",
    "4. 기타 제어문 \n",
    "    - break : 무조건 반복을 벗어나라 \n",
    "    - continue : 이하 생랴\n",
    "\n"
   ]
  },
  {
   "cell_type": "markdown",
   "id": "559b1716",
   "metadata": {},
   "source": [
    "## 조건문 - if문"
   ]
  },
  {
   "cell_type": "code",
   "execution_count": null,
   "id": "46425c1d",
   "metadata": {},
   "outputs": [],
   "source": [
    "print(\"hi\")\n",
    "a = 1\n",
    "if a == 0:\n",
    "    print(\"a = \", a)\n",
    "print(\"바보 배고파\")"
   ]
  },
  {
   "cell_type": "markdown",
   "id": "f4dd77b3",
   "metadata": {},
   "source": [
    "if(조건식){\n",
    "} // 조건식이 참일 때\n",
    "else{\n",
    "} // 조건식이 거짓일 때\n",
    "\n",
    "if 조건식:\n",
    "// 조건이 참일 때 실행할 문장 // 파이썬 \n",
    "else: // 조건이 거짓일 때 "
   ]
  },
  {
   "cell_type": "code",
   "execution_count": null,
   "id": "420e55f1",
   "metadata": {},
   "outputs": [],
   "source": [
    "# 하나의 숫자를 입력받아 짝수인지 판정하는 프로그램을 구현하시오. \n",
    "a = int(input(\"숫자를 입력하시오 💪🏿₍ ᐢ. ̫ .ᐢ ₎💪🏿 = \"))\n",
    "if a % 2 == 0:\n",
    "   pass ?? \n",
    "    print(\"입력받은 숫자 %d는 짝수입니다. ( •̅ɞ•̅ )\" % a)\n",
    "else:\n",
    "    print(\"입려받은 숫자 %d는 홀수입니다.︵‿︵(´ ͡༎ຶ ͜ʖ ͡༎ຶ `)︵‿︵ \" % a)"
   ]
  },
  {
   "cell_type": "markdown",
   "id": "8e6bd981",
   "metadata": {},
   "source": [
    "if 조건식1{} # 조건식1이 참일 때 실행할 문장\n",
    "elif(조건식2){} #조건식2가 참일때 실행할 문장\n",
    "else: #조건식이 모두 거짓일때 "
   ]
  },
  {
   "cell_type": "code",
   "execution_count": null,
   "id": "6e194bf5",
   "metadata": {},
   "outputs": [],
   "source": [
    "# 하나의 숫자를 입력받아 양수인지 음수인지 판정하는 프로그램을 구현\n",
    "a = float(input(\"숫자를 입력하세요 = \"))\n",
    "if a < 0:\n",
    "    print(\"입력된 숫자 %.1f는 음수입니다.\" %a)\n",
    "elif a > 0:\n",
    "    print(\"입력된 숫자 %.1f는 양수입니다.\" %a)\n",
    "else:\n",
    "    print(\"입력된 숫자는 0입니다.\")"
   ]
  },
  {
   "cell_type": "markdown",
   "id": "938c7a34",
   "metadata": {},
   "source": [
    "### 문제 : 성적처리 프로그램 1단계 \n",
    "국어, 영어, 수학점수를 입력받아 총점과 평균을 계산하여 출력하는 프로그램을 작성하시오.\n",
    "단, 평균은 소숫점 이하 둘째자리까지 출력되도록 구현하시오."
   ]
  },
  {
   "cell_type": "code",
   "execution_count": null,
   "id": "bba949e8",
   "metadata": {},
   "outputs": [],
   "source": [
    "kor = int(input(\"국어 점수를 입력하시오 = \"))\n",
    "eng = int(input(\"영어 점수를 입력하시오 = \"))\n",
    "math = int(input(\"수학 점수를 입력하시오 = \"))\n",
    "\n",
    "\n",
    "a = kor + eng + math\n",
    "b = (kor + eng + math)/3\n",
    "print(\"총점 : {0} 점, 평균 : {1:.2f} 점\".format(a, b))\n",
    "\n",
    "\n",
    "#print(\" 총점은 %d 점입니다.\" %a)\n",
    "#print(\" 평균은 %.2f 점입니다.\" %b)\n"
   ]
  },
  {
   "cell_type": "markdown",
   "id": "1001b9de",
   "metadata": {},
   "source": [
    "### 성적 처리 프로그램 2단계\n",
    "학점을 부여하시오. 학점은 평균을 이용하여 A, B, C, D, F로 표현하되, \n",
    "평균이 90점 이상이면 'A학점', 80점이상이면 'B학점'"
   ]
  },
  {
   "cell_type": "code",
   "execution_count": null,
   "id": "f161199d",
   "metadata": {},
   "outputs": [],
   "source": [
    "kor = int(input(\"국어 점수를 입력하시오 = \"))\n",
    "eng = int(input(\"영어 점수를 입력하시오 = \"))\n",
    "math = int(input(\"수학 점수를 입력하시오 = \"))\n",
    "\n",
    "\n",
    "a = kor + eng + math\n",
    "b = (kor + eng + math)/3\n",
    "\n",
    "\n",
    "if b >= 90:\n",
    "    c = \"A학점\"\n",
    "elif b >= 80:\n",
    "    c = \"B학점\"\n",
    "elif b >= 70:    \n",
    "    c = \"C학점입니다.(´-ι_-｀)\"\n",
    "elif b >= 60:    \n",
    "    c = \" D학점입니다.◔̯◔\"\n",
    "else:\n",
    "    c = \" F학점입니다.\"\n",
    "    \n",
    "print(\"총점 : {0} 점, 평균 : {1:.2f} 점, \\\n",
    "      학점 : {2}\".format(a, b, c))  # 두줄에 걸쳐서 작성할때는 \\ 를 써준다. ** 꿀팁 ** \n"
   ]
  },
  {
   "cell_type": "markdown",
   "id": "c500a9d4",
   "metadata": {},
   "source": [
    "## 반복문 \n",
    "- 반복하는 문장 \n",
    "    무한Loop \n",
    "    조건식, 횟수 \n",
    "    for문, while문\n",
    "   \n",
    "    "
   ]
  },
  {
   "cell_type": "code",
   "execution_count": null,
   "id": "80e9fb20",
   "metadata": {},
   "outputs": [],
   "source": [
    "# for 개별변수 in 집합변수 :\n",
    "a = [1,2,3,4,5]\n",
    "a"
   ]
  },
  {
   "cell_type": "code",
   "execution_count": null,
   "id": "d3976f5c",
   "metadata": {},
   "outputs": [],
   "source": [
    "print(a[0])\n",
    "print(a[1])\n",
    "print(a[2])\n",
    "print(a[3])\n",
    "print(a[4])"
   ]
  },
  {
   "cell_type": "code",
   "execution_count": null,
   "id": "e3092466",
   "metadata": {},
   "outputs": [],
   "source": [
    "# range(시작값, 마지막값, 증감값) 마지막값 = 6-1 = 5까지 나타남. \n",
    "# range(start, end, step )\n",
    "for i in range(1, 6):\n",
    "    print(i)\n",
    "\n",
    "for i in [1,2,3,4,5]:\n",
    "    print(i)"
   ]
  },
  {
   "cell_type": "code",
   "execution_count": null,
   "id": "7baa7504",
   "metadata": {},
   "outputs": [],
   "source": [
    "for i in a : \n",
    "    print(\"hello\") # a 안의 데이터 수가 5개이니까 ."
   ]
  },
  {
   "cell_type": "code",
   "execution_count": null,
   "id": "ec19548e",
   "metadata": {},
   "outputs": [],
   "source": [
    "for i in range(1,5,2): # 1,2,3,4,5 2간격으로 \n",
    "    print(i)\n",
    "\n",
    "for i in range(10): # 0,1,2,3,,,10 0부터 시작 \n",
    "    print(i)"
   ]
  },
  {
   "cell_type": "code",
   "execution_count": null,
   "id": "5d7cb153",
   "metadata": {},
   "outputs": [],
   "source": [
    "for i in \"korea\":\n",
    "    print(i)\n",
    "    \n",
    "    \n",
    "for i in [\"red\",\"blue\",\"black\"]:\n",
    "    print(i)\n",
    "    \n",
    "for i in range(1, 10, 2): # 1부터 9까지 # 홀수를 의미한다뵤 \n",
    "    print(i)\n",
    "    \n",
    "for i in range(1, 11): # 1, 2, 3, 4, 5, 6, 7, 8, 9, 10\n",
    "    if i % 2 != 0 :\n",
    "        print(i) \n",
    "\n",
    "for i in range(10,0,-1):\n",
    "    print(i)\n",
    "    \n",
    "    \n"
   ]
  },
  {
   "cell_type": "code",
   "execution_count": null,
   "id": "e7e628c2",
   "metadata": {},
   "outputs": [],
   "source": [
    "#### 구구단을 출력하는 프로그램 \n",
    "#하나의 수를 입력받아 해당 숫자의 구구단을 출력하는 프로그램을 구현한다. \n",
    "\n",
    "a = int(input(\"숫자를 입력하시오.\"))\n",
    "\n",
    "for i in range(1,10): \n",
    "    print(\"{0} x {1} = {2}\".format(a,i,a*i))\n",
    "    \n",
    "     #print(\"%d x %d = %d\" % (a ,i, b) 이거도 맞음 "
   ]
  },
  {
   "cell_type": "markdown",
   "id": "fb02a310",
   "metadata": {},
   "source": [
    "### 구구단을 출력하시오 "
   ]
  },
  {
   "cell_type": "code",
   "execution_count": null,
   "id": "63ac3eb1",
   "metadata": {},
   "outputs": [],
   "source": [
    "# 단수 \n",
    "for dan in range(2, 10):\n",
    "    print(\"=== {0}단 ===\".format(dan))\n",
    "    # 자연수 \n",
    "    for su in range(1,10):\n",
    "        print(\"{0} x {1} = {2}\".format(dan,su,dan*su))\n",
    "    print() # 띄워쓰기 "
   ]
  },
  {
   "cell_type": "code",
   "execution_count": null,
   "id": "5a56f4c3",
   "metadata": {},
   "outputs": [],
   "source": [
    "# 다중 for\n",
    "for i in [1,2]:\n",
    "    print(\"%d번째\" % i)\n",
    "    for j in [1,2,3]:\n",
    "        print(\"hi\")\n",
    "    print()\n",
    "    "
   ]
  },
  {
   "cell_type": "markdown",
   "id": "5e956ebc",
   "metadata": {},
   "source": [
    "### 1부터 100까지 자연수를 출력하는 프로그램을 구현하시오.\n"
   ]
  },
  {
   "cell_type": "code",
   "execution_count": null,
   "id": "99bdbec6",
   "metadata": {},
   "outputs": [],
   "source": [
    "for i in range(1,101):\n",
    "    print(i, end=\"  \") # 기본값이 줄 바꿈이므로 end=\" \"를 해주면 한 칸 띄우기로 바뀐다. \n",
    "    if i % 10 == 0:\n",
    "        print()"
   ]
  },
  {
   "cell_type": "code",
   "execution_count": null,
   "id": "4d397103",
   "metadata": {},
   "outputs": [],
   "source": [
    "for i in range(1, 101):\n",
    "    print(\"%3d\" %i, end=\"\") # %3d , 3 = 자릿수 \n",
    "    if i % 10 == 0:\n",
    "        print()"
   ]
  },
  {
   "cell_type": "markdown",
   "id": "06f60328",
   "metadata": {},
   "source": [
    "### while 문\n"
   ]
  },
  {
   "cell_type": "code",
   "execution_count": null,
   "id": "4a39dbc0",
   "metadata": {},
   "outputs": [],
   "source": [
    "i = 1\n",
    "\n",
    "while i < 11:\n",
    "    print(\"%5d\" %i, end = \"\")\n",
    "    i = i + 1"
   ]
  },
  {
   "cell_type": "code",
   "execution_count": null,
   "id": "17f0e8fc",
   "metadata": {},
   "outputs": [],
   "source": [
    "i = 1\n",
    "while True: # 무한Loop \n",
    "    print(\"%5d\" %i, end = \"\")\n",
    "    i = i + 1\n",
    "    if i > 10:\n",
    "        break"
   ]
  },
  {
   "cell_type": "markdown",
   "id": "7355cb5c",
   "metadata": {},
   "source": [
    "### 숫자를 다섯개 입력받아 그 합을 계산한 후 출력하는 프로그램 \n"
   ]
  },
  {
   "cell_type": "code",
   "execution_count": null,
   "id": "96b509a7",
   "metadata": {},
   "outputs": [],
   "source": [
    "a = int(input(\"숫자 = \"))\n",
    "b = int(input(\"숫자2 = \"))\n",
    "\n",
    "tot = a +b\n",
    "print(\"tot = \", tot)"
   ]
  },
  {
   "cell_type": "code",
   "execution_count": null,
   "id": "a9bb121e",
   "metadata": {},
   "outputs": [],
   "source": [
    "tot = 0 \n",
    "for i in range(5):\n",
    "    a = int(input(\"숫자 = \"))\n",
    "    tot = tot + a\n",
    "print(tot)"
   ]
  },
  {
   "cell_type": "markdown",
   "id": "4a5624c7",
   "metadata": {},
   "source": [
    "### 숫자를 입력받아 누적합을 계산하는 프로그램을 작성하되, 입력 받은 숫자가 0이면 입력을 중지하고 누적합의 결과를 출력하는 프로그램을 구현하시오. \n"
   ]
  },
  {
   "cell_type": "code",
   "execution_count": null,
   "id": "df6101e3",
   "metadata": {},
   "outputs": [],
   "source": [
    "tot = 0 \n",
    "\n",
    "while True:\n",
    "    a = int(input(\"숫자 = \"))\n",
    "    if a == 0:\n",
    "        break\n",
    "    tot = tot + a\n",
    "print(tot)"
   ]
  },
  {
   "cell_type": "code",
   "execution_count": null,
   "id": "0656077c",
   "metadata": {},
   "outputs": [],
   "source": [
    "for i in range(10):\n",
    "    if i == 5: continue # 이하 생략, 건너뛰어라 \n",
    "    print(i)\n",
    "    "
   ]
  },
  {
   "cell_type": "code",
   "execution_count": null,
   "id": "1ef01b0e",
   "metadata": {},
   "outputs": [],
   "source": [
    "# 반복문의 else의 의미\n",
    "## 어떤 조건이 완전히 끝났을 때 한 번 더 실행해주는 역할 \n",
    "for i in range(10):\n",
    "    print(i)\n",
    "else:\n",
    "    print(\"end of program\")"
   ]
  },
  {
   "cell_type": "code",
   "execution_count": 1,
   "id": "3d1846f3",
   "metadata": {},
   "outputs": [
    {
     "name": "stdout",
     "output_type": "stream",
     "text": [
      "단 = 1\n",
      "다시입력하시오\n",
      "단 = 2\n",
      "2 x 1 = 2\n",
      "2 x 2 = 4\n",
      "2 x 3 = 6\n",
      "2 x 4 = 8\n",
      "2 x 5 = 10\n",
      "2 x 6 = 12\n",
      "2 x 7 = 14\n",
      "2 x 8 = 16\n",
      "2 x 9 = 18\n"
     ]
    }
   ],
   "source": [
    "\n",
    "while True:\n",
    "    dan = int(input(\"단 = \"))\n",
    "    if dan >= 2 and dan <= 9 : break\n",
    "        \n",
    "    else:\n",
    "        print(\"다시입력하시오\")\n",
    "        \n",
    "i = 1\n",
    "while dan % 2 == 0 : \n",
    "    print(\"{} x {} = {}\".format(dan, i, dan*i))\n",
    "    i += 1\n",
    "    if i > 9 : break \n",
    "else:\n",
    "    print(\"짝수단만 출력하고 싶어요 \")\n",
    "# 조건식이 거짓일 때 실행하는 문장 "
   ]
  },
  {
   "cell_type": "code",
   "execution_count": null,
   "id": "955bc7c6",
   "metadata": {},
   "outputs": [],
   "source": []
  },
  {
   "cell_type": "code",
   "execution_count": null,
   "id": "83330699",
   "metadata": {},
   "outputs": [],
   "source": []
  },
  {
   "cell_type": "code",
   "execution_count": null,
   "id": "f38ae9f6",
   "metadata": {},
   "outputs": [],
   "source": []
  },
  {
   "cell_type": "code",
   "execution_count": null,
   "id": "427efb08",
   "metadata": {},
   "outputs": [],
   "source": [
    "import math \n",
    "x = math.trunc(-2.54)\n",
    "print(x)\n"
   ]
  },
  {
   "cell_type": "code",
   "execution_count": null,
   "id": "dc4e49c7",
   "metadata": {},
   "outputs": [],
   "source": []
  },
  {
   "cell_type": "code",
   "execution_count": null,
   "id": "d99f4a7f",
   "metadata": {},
   "outputs": [],
   "source": []
  },
  {
   "cell_type": "code",
   "execution_count": null,
   "id": "24775651",
   "metadata": {},
   "outputs": [],
   "source": []
  }
 ],
 "metadata": {
  "kernelspec": {
   "display_name": "Python 3 (ipykernel)",
   "language": "python",
   "name": "python3"
  },
  "language_info": {
   "codemirror_mode": {
    "name": "ipython",
    "version": 3
   },
   "file_extension": ".py",
   "mimetype": "text/x-python",
   "name": "python",
   "nbconvert_exporter": "python",
   "pygments_lexer": "ipython3",
   "version": "3.9.12"
  },
  "toc": {
   "base_numbering": 1,
   "nav_menu": {},
   "number_sections": true,
   "sideBar": true,
   "skip_h1_title": false,
   "title_cell": "Table of Contents",
   "title_sidebar": "Contents",
   "toc_cell": false,
   "toc_position": {},
   "toc_section_display": true,
   "toc_window_display": true
  }
 },
 "nbformat": 4,
 "nbformat_minor": 5
}
